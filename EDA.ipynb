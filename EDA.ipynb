{
 "cells": [
  {
   "cell_type": "markdown",
   "metadata": {},
   "source": [
    "# Descriptive statistics"
   ]
  },
  {
   "cell_type": "code",
   "execution_count": 4,
   "metadata": {},
   "outputs": [],
   "source": [
    "import pandas as pd"
   ]
  },
  {
   "cell_type": "code",
   "execution_count": 5,
   "metadata": {},
   "outputs": [],
   "source": [
    "finance = pd.read_csv(\"finance_clean.csv\")"
   ]
  },
  {
   "cell_type": "code",
   "execution_count": 57,
   "metadata": {},
   "outputs": [
    {
     "data": {
      "text/html": [
       "<div>\n",
       "<style scoped>\n",
       "    .dataframe tbody tr th:only-of-type {\n",
       "        vertical-align: middle;\n",
       "    }\n",
       "\n",
       "    .dataframe tbody tr th {\n",
       "        vertical-align: top;\n",
       "    }\n",
       "\n",
       "    .dataframe thead th {\n",
       "        text-align: right;\n",
       "    }\n",
       "</style>\n",
       "<table border=\"1\" class=\"dataframe\">\n",
       "  <thead>\n",
       "    <tr style=\"text-align: right;\">\n",
       "      <th></th>\n",
       "      <th>Oficina</th>\n",
       "      <th>Fecha operacion</th>\n",
       "      <th>Ingreso (+)</th>\n",
       "      <th>Gasto (-)</th>\n",
       "      <th>Concepto origen</th>\n",
       "      <th>Concepto destino</th>\n",
       "      <th>Ingreso y Gasto</th>\n",
       "      <th>Saldo</th>\n",
       "    </tr>\n",
       "  </thead>\n",
       "  <tbody>\n",
       "    <tr>\n",
       "      <th>0</th>\n",
       "      <td>9736</td>\n",
       "      <td>2019-04-17</td>\n",
       "      <td>NaN</td>\n",
       "      <td>1.73</td>\n",
       "      <td></td>\n",
       "      <td>BON AREA</td>\n",
       "      <td>-1.73</td>\n",
       "      <td>126.98</td>\n",
       "    </tr>\n",
       "    <tr>\n",
       "      <th>1</th>\n",
       "      <td>9792</td>\n",
       "      <td>2019-04-17</td>\n",
       "      <td>8.0</td>\n",
       "      <td>NaN</td>\n",
       "      <td>00810900-ADRIA FERRER ABAD</td>\n",
       "      <td>TRANSF. A SU FAVOR</td>\n",
       "      <td>8.00</td>\n",
       "      <td>128.71</td>\n",
       "    </tr>\n",
       "    <tr>\n",
       "      <th>2</th>\n",
       "      <td>9792</td>\n",
       "      <td>2019-04-17</td>\n",
       "      <td>9.0</td>\n",
       "      <td>NaN</td>\n",
       "      <td>00810053-PAU SAMPIETRO FABREGAS</td>\n",
       "      <td>TRANSF. A SU FAVOR</td>\n",
       "      <td>9.00</td>\n",
       "      <td>120.71</td>\n",
       "    </tr>\n",
       "  </tbody>\n",
       "</table>\n",
       "</div>"
      ],
      "text/plain": [
       "   Oficina Fecha operacion  Ingreso (+)  Gasto (-)  \\\n",
       "0     9736      2019-04-17          NaN       1.73   \n",
       "1     9792      2019-04-17          8.0        NaN   \n",
       "2     9792      2019-04-17          9.0        NaN   \n",
       "\n",
       "                          Concepto origen  \\\n",
       "0                                           \n",
       "1  00810900-ADRIA FERRER ABAD               \n",
       "2  00810053-PAU SAMPIETRO FABREGAS          \n",
       "\n",
       "                         Concepto destino  Ingreso y Gasto   Saldo  \n",
       "0  BON AREA                                          -1.73  126.98  \n",
       "1  TRANSF. A SU FAVOR                                 8.00  128.71  \n",
       "2  TRANSF. A SU FAVOR                                 9.00  120.71  "
      ]
     },
     "execution_count": 57,
     "metadata": {},
     "output_type": "execute_result"
    }
   ],
   "source": [
    "finance.head(3)"
   ]
  },
  {
   "cell_type": "code",
   "execution_count": 94,
   "metadata": {},
   "outputs": [
    {
     "name": "stdout",
     "output_type": "stream",
     "text": [
      "<class 'pandas.core.frame.DataFrame'>\n",
      "RangeIndex: 1225 entries, 0 to 1224\n",
      "Data columns (total 8 columns):\n",
      "Oficina             1225 non-null int64\n",
      "Fecha operacion     1225 non-null object\n",
      "Ingreso (+)         147 non-null float64\n",
      "Gasto (-)           1078 non-null float64\n",
      "Concepto origen     1225 non-null object\n",
      "Concepto destino    1225 non-null object\n",
      "Ingreso y Gasto     1225 non-null float64\n",
      "Saldo               1225 non-null float64\n",
      "dtypes: float64(4), int64(1), object(3)\n",
      "memory usage: 76.6+ KB\n"
     ]
    }
   ],
   "source": [
    "finance.info()"
   ]
  },
  {
   "cell_type": "code",
   "execution_count": 95,
   "metadata": {},
   "outputs": [
    {
     "data": {
      "text/html": [
       "<div>\n",
       "<style scoped>\n",
       "    .dataframe tbody tr th:only-of-type {\n",
       "        vertical-align: middle;\n",
       "    }\n",
       "\n",
       "    .dataframe tbody tr th {\n",
       "        vertical-align: top;\n",
       "    }\n",
       "\n",
       "    .dataframe thead th {\n",
       "        text-align: right;\n",
       "    }\n",
       "</style>\n",
       "<table border=\"1\" class=\"dataframe\">\n",
       "  <thead>\n",
       "    <tr style=\"text-align: right;\">\n",
       "      <th></th>\n",
       "      <th>Ingreso (+)</th>\n",
       "      <th>Gasto (-)</th>\n",
       "      <th>Ingreso y Gasto</th>\n",
       "      <th>Saldo</th>\n",
       "    </tr>\n",
       "  </thead>\n",
       "  <tbody>\n",
       "    <tr>\n",
       "      <th>count</th>\n",
       "      <td>147.000000</td>\n",
       "      <td>1078.000000</td>\n",
       "      <td>1225.000000</td>\n",
       "      <td>1225.000000</td>\n",
       "    </tr>\n",
       "    <tr>\n",
       "      <th>mean</th>\n",
       "      <td>213.035510</td>\n",
       "      <td>28.998896</td>\n",
       "      <td>0.045233</td>\n",
       "      <td>953.227722</td>\n",
       "    </tr>\n",
       "    <tr>\n",
       "      <th>std</th>\n",
       "      <td>497.066092</td>\n",
       "      <td>121.614188</td>\n",
       "      <td>220.626968</td>\n",
       "      <td>864.934179</td>\n",
       "    </tr>\n",
       "    <tr>\n",
       "      <th>min</th>\n",
       "      <td>0.850000</td>\n",
       "      <td>0.020000</td>\n",
       "      <td>-2000.000000</td>\n",
       "      <td>-11.840000</td>\n",
       "    </tr>\n",
       "    <tr>\n",
       "      <th>25%</th>\n",
       "      <td>9.995000</td>\n",
       "      <td>2.500000</td>\n",
       "      <td>-14.000000</td>\n",
       "      <td>402.900000</td>\n",
       "    </tr>\n",
       "    <tr>\n",
       "      <th>50%</th>\n",
       "      <td>50.000000</td>\n",
       "      <td>6.300000</td>\n",
       "      <td>-4.990000</td>\n",
       "      <td>727.540000</td>\n",
       "    </tr>\n",
       "    <tr>\n",
       "      <th>75%</th>\n",
       "      <td>175.000000</td>\n",
       "      <td>17.230000</td>\n",
       "      <td>-1.600000</td>\n",
       "      <td>1169.510000</td>\n",
       "    </tr>\n",
       "    <tr>\n",
       "      <th>max</th>\n",
       "      <td>4000.780000</td>\n",
       "      <td>2000.000000</td>\n",
       "      <td>4000.780000</td>\n",
       "      <td>4938.610000</td>\n",
       "    </tr>\n",
       "  </tbody>\n",
       "</table>\n",
       "</div>"
      ],
      "text/plain": [
       "       Ingreso (+)    Gasto (-)  Ingreso y Gasto        Saldo\n",
       "count   147.000000  1078.000000      1225.000000  1225.000000\n",
       "mean    213.035510    28.998896         0.045233   953.227722\n",
       "std     497.066092   121.614188       220.626968   864.934179\n",
       "min       0.850000     0.020000     -2000.000000   -11.840000\n",
       "25%       9.995000     2.500000       -14.000000   402.900000\n",
       "50%      50.000000     6.300000        -4.990000   727.540000\n",
       "75%     175.000000    17.230000        -1.600000  1169.510000\n",
       "max    4000.780000  2000.000000      4000.780000  4938.610000"
      ]
     },
     "execution_count": 95,
     "metadata": {},
     "output_type": "execute_result"
    }
   ],
   "source": [
    "finance.describe(include=['float64']) "
   ]
  },
  {
   "cell_type": "markdown",
   "metadata": {},
   "source": [
    "## Measures of centralization:"
   ]
  },
  {
   "cell_type": "markdown",
   "metadata": {},
   "source": [
    "#### The data is clearly unbalanced. There are seven times more expenses than entries. On the other hand, the average expense is seven times smaller than the average entry."
   ]
  },
  {
   "cell_type": "markdown",
   "metadata": {},
   "source": [
    "## Measures of dispertion:"
   ]
  },
  {
   "cell_type": "markdown",
   "metadata": {},
   "source": [
    "#### It is worth pointing out that the standard deviation of the entries and the total balance is much higher than of the expenses. There is a much lower dispertion in expenses, so probably much higher density in the middle of the distribution."
   ]
  },
  {
   "cell_type": "markdown",
   "metadata": {},
   "source": [
    "### Looking at the interquartile range (25% to 75%):"
   ]
  },
  {
   "cell_type": "markdown",
   "metadata": {},
   "source": [
    "#### Income is mostly 10 euros to 175 euros. Expenses are mostly between 2.5 euros and 17.23 euros. Balance mst of the time is between 405 euros and 1170.21 euros."
   ]
  },
  {
   "cell_type": "markdown",
   "metadata": {},
   "source": [
    "# Plots"
   ]
  },
  {
   "cell_type": "code",
   "execution_count": 2,
   "metadata": {},
   "outputs": [],
   "source": [
    "import matplotlib.pyplot as plt\n",
    "import seaborn as sns\n",
    "\n",
    "%matplotlib inline"
   ]
  },
  {
   "cell_type": "markdown",
   "metadata": {},
   "source": [
    "#### Visually confirm centralization/dispertion analysis"
   ]
  },
  {
   "cell_type": "code",
   "execution_count": 17,
   "metadata": {},
   "outputs": [
    {
     "data": {
      "text/plain": [
       "(array([1.000e+00, 2.000e+00, 2.000e+00, 1.000e+00, 6.000e+00, 1.500e+01,\n",
       "        1.152e+03, 2.900e+01, 7.000e+00, 2.000e+00, 2.000e+00, 1.000e+00,\n",
       "        2.000e+00, 0.000e+00, 2.000e+00, 0.000e+00, 0.000e+00, 0.000e+00,\n",
       "        0.000e+00, 1.000e+00]),\n",
       " array([-2000.   , -1699.961, -1399.922, -1099.883,  -799.844,  -499.805,\n",
       "         -199.766,   100.273,   400.312,   700.351,  1000.39 ,  1300.429,\n",
       "         1600.468,  1900.507,  2200.546,  2500.585,  2800.624,  3100.663,\n",
       "         3400.702,  3700.741,  4000.78 ]),\n",
       " <a list of 20 Patch objects>)"
      ]
     },
     "execution_count": 17,
     "metadata": {},
     "output_type": "execute_result"
    },
    {
     "data": {
      "image/png": "[encoded data removed]",
      "text/plain": [
       "<Figure size 432x288 with 1 Axes>"
      ]
     },
     "metadata": {
      "needs_background": "light"
     },
     "output_type": "display_data"
    }
   ],
   "source": [
    "plt.hist(finance[\"Ingreso y Gasto\"], bins = 20) "
   ]
  },
  {
   "cell_type": "markdown",
   "metadata": {},
   "source": [
    "### Hypothesis test -> Is the distribution of Income and Outcome normal?"
   ]
  },
  {
   "cell_type": "code",
   "execution_count": 51,
   "metadata": {},
   "outputs": [],
   "source": [
    "#### The answer is clear by seeing at the graph but one of the main goals was to demostrate statistically that it was:"
   ]
  },
  {
   "cell_type": "code",
   "execution_count": 44,
   "metadata": {},
   "outputs": [],
   "source": [
    "from scipy import stats"
   ]
  },
  {
   "cell_type": "code",
   "execution_count": 45,
   "metadata": {},
   "outputs": [],
   "source": [
    "k2, p = stats.normaltest(finance[\"Ingreso y Gasto\"])"
   ]
  },
  {
   "cell_type": "code",
   "execution_count": 48,
   "metadata": {},
   "outputs": [
    {
     "name": "stdout",
     "output_type": "stream",
     "text": [
      "Sample does not look Gaussian (reject H0)\n"
     ]
    }
   ],
   "source": [
    "alpha = 0.05\n",
    "if p > alpha:\n",
    "    print('Sample looks Gaussian (fail to reject H0)')\n",
    "else:\n",
    "    print('Sample does not look Gaussian (reject H0)')"
   ]
  },
  {
   "cell_type": "code",
   "execution_count": 66,
   "metadata": {},
   "outputs": [
    {
     "data": {
      "text/plain": [
       "<matplotlib.axes._subplots.AxesSubplot at 0x11d615198>"
      ]
     },
     "execution_count": 66,
     "metadata": {},
     "output_type": "execute_result"
    },
    {
     "data": {
      "image/png": "[encoded data removed]",
      "text/plain": [
       "<Figure size 432x288 with 1 Axes>"
      ]
     },
     "metadata": {
      "needs_background": "light"
     },
     "output_type": "display_data"
    }
   ],
   "source": [
    "sns.boxplot(x=finance[\"Ingreso y Gasto\"])"
   ]
  },
  {
   "cell_type": "markdown",
   "metadata": {},
   "source": [
    "#### Expenses and income are extremely centered around 0"
   ]
  },
  {
   "cell_type": "code",
   "execution_count": 13,
   "metadata": {},
   "outputs": [
    {
     "data": {
      "text/plain": [
       "(array([180., 213., 223., 174., 146.,  89.,  43.,  18.,  16.,  20.,  30.,\n",
       "         26.,   9.,   2.,   4.,  24.,   0.,   1.,   1.,   6.]),\n",
       " array([ -11.84  ,  235.6825,  483.205 ,  730.7275,  978.25  , 1225.7725,\n",
       "        1473.295 , 1720.8175, 1968.34  , 2215.8625, 2463.385 , 2710.9075,\n",
       "        2958.43  , 3205.9525, 3453.475 , 3700.9975, 3948.52  , 4196.0425,\n",
       "        4443.565 , 4691.0875, 4938.61  ]),\n",
       " <a list of 20 Patch objects>)"
      ]
     },
     "execution_count": 13,
     "metadata": {},
     "output_type": "execute_result"
    },
    {
     "data": {
      "image/png": "[encoded data removed]",
      "text/plain": [
       "<Figure size 432x288 with 1 Axes>"
      ]
     },
     "metadata": {
      "needs_background": "light"
     },
     "output_type": "display_data"
    }
   ],
   "source": [
    "plt.hist(finance[\"Saldo\"], bins = 20) "
   ]
  },
  {
   "cell_type": "code",
   "execution_count": 67,
   "metadata": {},
   "outputs": [
    {
     "data": {
      "text/plain": [
       "<matplotlib.axes._subplots.AxesSubplot at 0x11d63a9b0>"
      ]
     },
     "execution_count": 67,
     "metadata": {},
     "output_type": "execute_result"
    },
    {
     "data": {
      "image/png": "[encoded data removed]",
      "text/plain": [
       "<Figure size 432x288 with 1 Axes>"
      ]
     },
     "metadata": {
      "needs_background": "light"
     },
     "output_type": "display_data"
    }
   ],
   "source": [
    "sns.boxplot(x=finance[\"Saldo\"])"
   ]
  },
  {
   "cell_type": "markdown",
   "metadata": {},
   "source": [
    "#### It is clear that high income can be defined as an outlier and doesn't happen often (probably paid by day or week and not by month)"
   ]
  },
  {
   "cell_type": "code",
   "execution_count": 72,
   "metadata": {},
   "outputs": [
    {
     "data": {
      "text/plain": [
       "[<matplotlib.lines.Line2D at 0x11dd8c748>]"
      ]
     },
     "execution_count": 72,
     "metadata": {},
     "output_type": "execute_result"
    },
    {
     "data": {
      "image/png": "[encoded data removed]",
      "text/plain": [
       "<Figure size 432x288 with 1 Axes>"
      ]
     },
     "metadata": {
      "needs_background": "light"
     },
     "output_type": "display_data"
    }
   ],
   "source": [
    "plt.plot(finance[\"Fecha operacion\"], finance[\"Ingreso y Gasto\"]) # High peaks are sometimes observed but most transactions are in the middle"
   ]
  },
  {
   "cell_type": "markdown",
   "metadata": {},
   "source": [
    "#### There are big fluctuations in the income + expense, some outliers of big income/expense appears on the graph but most is gravitated to the center"
   ]
  },
  {
   "cell_type": "code",
   "execution_count": 20,
   "metadata": {},
   "outputs": [],
   "source": [
    "sum_expense = finance.groupby('Concepto destino').sum()"
   ]
  },
  {
   "cell_type": "code",
   "execution_count": 25,
   "metadata": {},
   "outputs": [
    {
     "data": {
      "text/plain": [
       "Concepto destino\n",
       "C.CAIXAFUTURO-PIAS                        4000.00\n",
       "REINT.CAJERO                              3400.00\n",
       "PAGO DE RECIBOS                           1587.26\n",
       "Name: Gasto (-), dtype: float64"
      ]
     },
     "execution_count": 25,
     "metadata": {},
     "output_type": "execute_result"
    }
   ],
   "source": [
    "sum_expense.sort_values(by=['Gasto (-)'], ascending=False)['Gasto (-)'].head(3)"
   ]
  },
  {
   "cell_type": "markdown",
   "metadata": {},
   "source": [
    "#### The biggest expense has been a saving account"
   ]
  },
  {
   "cell_type": "code",
   "execution_count": 23,
   "metadata": {},
   "outputs": [],
   "source": [
    "sum_income = finance.groupby('Concepto origen').sum()"
   ]
  },
  {
   "cell_type": "code",
   "execution_count": 56,
   "metadata": {},
   "outputs": [
    {
     "data": {
      "text/plain": [
       "Concepto origen\n",
       "                                          17691.90\n",
       "Transferwise Ltd                           4976.68\n",
       "BEQUES I AJUTS 2014                        2387.86\n",
       "Name: Ingreso (+), dtype: float64"
      ]
     },
     "execution_count": 56,
     "metadata": {},
     "output_type": "execute_result"
    }
   ],
   "source": [
    "sum_income.sort_values(by=['Ingreso (+)'], ascending=False)['Ingreso (+)'].head(3)"
   ]
  },
  {
   "cell_type": "markdown",
   "metadata": {},
   "source": [
    "#### The biggest source of income without a blank value in \"concept\" is \"Transferwise Ltd\", probably my own English account"
   ]
  },
  {
   "cell_type": "code",
   "execution_count": 30,
   "metadata": {},
   "outputs": [
    {
     "data": {
      "text/plain": [
       "REINT.CAJERO                              57\n",
       "LIDL C PUJADES                            54\n",
       "CAFETERIA DEL MOL                         53\n",
       "Name: Concepto destino, dtype: int64"
      ]
     },
     "execution_count": 30,
     "metadata": {},
     "output_type": "execute_result"
    }
   ],
   "source": [
    "finance['Concepto destino'].value_counts().head(3)"
   ]
  },
  {
   "cell_type": "markdown",
   "metadata": {},
   "source": [
    "#### 57 trasactions with \"outcome concept\" were getting money from an automatic cash machine and 54 towards a supermarket"
   ]
  },
  {
   "cell_type": "code",
   "execution_count": 34,
   "metadata": {},
   "outputs": [
    {
     "data": {
      "text/plain": [
       "                                          1136\n",
       "A66098435000                                20\n",
       "01823298-MIREIA GOMEZ GORDO                 17\n",
       "Name: Concepto origen, dtype: int64"
      ]
     },
     "execution_count": 34,
     "metadata": {},
     "output_type": "execute_result"
    }
   ],
   "source": [
    "finance['Concepto origen'].value_counts().head(3)"
   ]
  },
  {
   "cell_type": "markdown",
   "metadata": {},
   "source": [
    "#### 20 transactions with \"income concept\" come from A66098435000 and 17 come from girlfriend \"mireia\""
   ]
  }
 ],
 "metadata": {
  "kernelspec": {
   "display_name": "Python 3",
   "language": "python",
   "name": "python3"
  },
  "language_info": {
   "codemirror_mode": {
    "name": "ipython",
    "version": 3
   },
   "file_extension": ".py",
   "mimetype": "text/x-python",
   "name": "python",
   "nbconvert_exporter": "python",
   "pygments_lexer": "ipython3",
   "version": "3.7.2"
  }
 },
 "nbformat": 4,
 "nbformat_minor": 2
}
