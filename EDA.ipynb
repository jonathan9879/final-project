{
 "cells": [
  {
   "cell_type": "markdown",
   "metadata": {},
   "source": [
    "# Descriptive statistics"
   ]
  },
  {
   "cell_type": "code",
   "execution_count": 52,
   "metadata": {},
   "outputs": [],
   "source": [
    "import pandas as pd"
   ]
  },
  {
   "cell_type": "code",
   "execution_count": 53,
   "metadata": {},
   "outputs": [],
   "source": [
    "finance = pd.read_csv(\"finance_clean.csv\")"
   ]
  },
  {
   "cell_type": "code",
   "execution_count": 54,
   "metadata": {},
   "outputs": [
    {
     "data": {
      "text/html": [
       "<div>\n",
       "<style scoped>\n",
       "    .dataframe tbody tr th:only-of-type {\n",
       "        vertical-align: middle;\n",
       "    }\n",
       "\n",
       "    .dataframe tbody tr th {\n",
       "        vertical-align: top;\n",
       "    }\n",
       "\n",
       "    .dataframe thead th {\n",
       "        text-align: right;\n",
       "    }\n",
       "</style>\n",
       "<table border=\"1\" class=\"dataframe\">\n",
       "  <thead>\n",
       "    <tr style=\"text-align: right;\">\n",
       "      <th></th>\n",
       "      <th>Oficina</th>\n",
       "      <th>Fecha operacion</th>\n",
       "      <th>Ingreso (+)</th>\n",
       "      <th>Gasto (-)</th>\n",
       "      <th>Concepto origen</th>\n",
       "      <th>Concepto destino</th>\n",
       "      <th>Ingreso y Gasto</th>\n",
       "      <th>Saldo</th>\n",
       "    </tr>\n",
       "  </thead>\n",
       "  <tbody>\n",
       "    <tr>\n",
       "      <th>0</th>\n",
       "      <td>9736</td>\n",
       "      <td>2019-04-17</td>\n",
       "      <td>NaN</td>\n",
       "      <td>1.73</td>\n",
       "      <td></td>\n",
       "      <td>BON AREA</td>\n",
       "      <td>-1.73</td>\n",
       "      <td>126.98</td>\n",
       "    </tr>\n",
       "    <tr>\n",
       "      <th>1</th>\n",
       "      <td>9792</td>\n",
       "      <td>2019-04-17</td>\n",
       "      <td>8.0</td>\n",
       "      <td>NaN</td>\n",
       "      <td>00810900-ADRIA FERRER ABAD</td>\n",
       "      <td>TRANSF. A SU FAVOR</td>\n",
       "      <td>8.00</td>\n",
       "      <td>128.71</td>\n",
       "    </tr>\n",
       "    <tr>\n",
       "      <th>2</th>\n",
       "      <td>9792</td>\n",
       "      <td>2019-04-17</td>\n",
       "      <td>9.0</td>\n",
       "      <td>NaN</td>\n",
       "      <td>00810053-PAU SAMPIETRO FABREGAS</td>\n",
       "      <td>TRANSF. A SU FAVOR</td>\n",
       "      <td>9.00</td>\n",
       "      <td>120.71</td>\n",
       "    </tr>\n",
       "    <tr>\n",
       "      <th>3</th>\n",
       "      <td>9736</td>\n",
       "      <td>2019-04-16</td>\n",
       "      <td>NaN</td>\n",
       "      <td>25.00</td>\n",
       "      <td></td>\n",
       "      <td>PECUNIA CARDS EDE</td>\n",
       "      <td>-25.00</td>\n",
       "      <td>111.71</td>\n",
       "    </tr>\n",
       "    <tr>\n",
       "      <th>4</th>\n",
       "      <td>569</td>\n",
       "      <td>2019-04-16</td>\n",
       "      <td>NaN</td>\n",
       "      <td>35.08</td>\n",
       "      <td>A66098435000</td>\n",
       "      <td>AIGUES DE BARC</td>\n",
       "      <td>-35.08</td>\n",
       "      <td>136.71</td>\n",
       "    </tr>\n",
       "  </tbody>\n",
       "</table>\n",
       "</div>"
      ],
      "text/plain": [
       "   Oficina Fecha operacion  Ingreso (+)  Gasto (-)  \\\n",
       "0     9736      2019-04-17          NaN       1.73   \n",
       "1     9792      2019-04-17          8.0        NaN   \n",
       "2     9792      2019-04-17          9.0        NaN   \n",
       "3     9736      2019-04-16          NaN      25.00   \n",
       "4      569      2019-04-16          NaN      35.08   \n",
       "\n",
       "                          Concepto origen  \\\n",
       "0                                           \n",
       "1  00810900-ADRIA FERRER ABAD               \n",
       "2  00810053-PAU SAMPIETRO FABREGAS          \n",
       "3                                           \n",
       "4  A66098435000                             \n",
       "\n",
       "                         Concepto destino  Ingreso y Gasto   Saldo  \n",
       "0  BON AREA                                          -1.73  126.98  \n",
       "1  TRANSF. A SU FAVOR                                 8.00  128.71  \n",
       "2  TRANSF. A SU FAVOR                                 9.00  120.71  \n",
       "3  PECUNIA CARDS EDE                                -25.00  111.71  \n",
       "4  AIGUES DE BARC                                   -35.08  136.71  "
      ]
     },
     "execution_count": 54,
     "metadata": {},
     "output_type": "execute_result"
    }
   ],
   "source": [
    "finance.head()"
   ]
  },
  {
   "cell_type": "code",
   "execution_count": 55,
   "metadata": {},
   "outputs": [
    {
     "name": "stdout",
     "output_type": "stream",
     "text": [
      "<class 'pandas.core.frame.DataFrame'>\n",
      "RangeIndex: 1225 entries, 0 to 1224\n",
      "Data columns (total 8 columns):\n",
      "Oficina             1225 non-null int64\n",
      "Fecha operacion     1225 non-null object\n",
      "Ingreso (+)         147 non-null float64\n",
      "Gasto (-)           1078 non-null float64\n",
      "Concepto origen     1225 non-null object\n",
      "Concepto destino    1225 non-null object\n",
      "Ingreso y Gasto     1225 non-null float64\n",
      "Saldo               1225 non-null float64\n",
      "dtypes: float64(4), int64(1), object(3)\n",
      "memory usage: 76.6+ KB\n"
     ]
    }
   ],
   "source": [
    "finance.info()"
   ]
  },
  {
   "cell_type": "code",
   "execution_count": 56,
   "metadata": {},
   "outputs": [
    {
     "data": {
      "text/html": [
       "<div>\n",
       "<style scoped>\n",
       "    .dataframe tbody tr th:only-of-type {\n",
       "        vertical-align: middle;\n",
       "    }\n",
       "\n",
       "    .dataframe tbody tr th {\n",
       "        vertical-align: top;\n",
       "    }\n",
       "\n",
       "    .dataframe thead th {\n",
       "        text-align: right;\n",
       "    }\n",
       "</style>\n",
       "<table border=\"1\" class=\"dataframe\">\n",
       "  <thead>\n",
       "    <tr style=\"text-align: right;\">\n",
       "      <th></th>\n",
       "      <th>Ingreso (+)</th>\n",
       "      <th>Gasto (-)</th>\n",
       "      <th>Ingreso y Gasto</th>\n",
       "      <th>Saldo</th>\n",
       "    </tr>\n",
       "  </thead>\n",
       "  <tbody>\n",
       "    <tr>\n",
       "      <th>count</th>\n",
       "      <td>147.000000</td>\n",
       "      <td>1078.000000</td>\n",
       "      <td>1225.000000</td>\n",
       "      <td>1225.000000</td>\n",
       "    </tr>\n",
       "    <tr>\n",
       "      <th>mean</th>\n",
       "      <td>213.035510</td>\n",
       "      <td>28.998896</td>\n",
       "      <td>0.045233</td>\n",
       "      <td>953.227722</td>\n",
       "    </tr>\n",
       "    <tr>\n",
       "      <th>std</th>\n",
       "      <td>497.066092</td>\n",
       "      <td>121.614188</td>\n",
       "      <td>220.626968</td>\n",
       "      <td>864.934179</td>\n",
       "    </tr>\n",
       "    <tr>\n",
       "      <th>min</th>\n",
       "      <td>0.850000</td>\n",
       "      <td>0.020000</td>\n",
       "      <td>-2000.000000</td>\n",
       "      <td>-11.840000</td>\n",
       "    </tr>\n",
       "    <tr>\n",
       "      <th>25%</th>\n",
       "      <td>9.995000</td>\n",
       "      <td>2.500000</td>\n",
       "      <td>-14.000000</td>\n",
       "      <td>402.900000</td>\n",
       "    </tr>\n",
       "    <tr>\n",
       "      <th>50%</th>\n",
       "      <td>50.000000</td>\n",
       "      <td>6.300000</td>\n",
       "      <td>-4.990000</td>\n",
       "      <td>727.540000</td>\n",
       "    </tr>\n",
       "    <tr>\n",
       "      <th>75%</th>\n",
       "      <td>175.000000</td>\n",
       "      <td>17.230000</td>\n",
       "      <td>-1.600000</td>\n",
       "      <td>1169.510000</td>\n",
       "    </tr>\n",
       "    <tr>\n",
       "      <th>max</th>\n",
       "      <td>4000.780000</td>\n",
       "      <td>2000.000000</td>\n",
       "      <td>4000.780000</td>\n",
       "      <td>4938.610000</td>\n",
       "    </tr>\n",
       "  </tbody>\n",
       "</table>\n",
       "</div>"
      ],
      "text/plain": [
       "       Ingreso (+)    Gasto (-)  Ingreso y Gasto        Saldo\n",
       "count   147.000000  1078.000000      1225.000000  1225.000000\n",
       "mean    213.035510    28.998896         0.045233   953.227722\n",
       "std     497.066092   121.614188       220.626968   864.934179\n",
       "min       0.850000     0.020000     -2000.000000   -11.840000\n",
       "25%       9.995000     2.500000       -14.000000   402.900000\n",
       "50%      50.000000     6.300000        -4.990000   727.540000\n",
       "75%     175.000000    17.230000        -1.600000  1169.510000\n",
       "max    4000.780000  2000.000000      4000.780000  4938.610000"
      ]
     },
     "execution_count": 56,
     "metadata": {},
     "output_type": "execute_result"
    }
   ],
   "source": [
    "finance.describe(include=['float64']) "
   ]
  },
  {
   "cell_type": "markdown",
   "metadata": {},
   "source": [
    "## Measures of centralization:"
   ]
  },
  {
   "cell_type": "markdown",
   "metadata": {},
   "source": [
    "#### The data is clearly unbalanced. There are seven times more expenses than entries. On the other hand, the average expense is seven times smaller than the average entry."
   ]
  },
  {
   "cell_type": "markdown",
   "metadata": {},
   "source": [
    "## Measures of dispertion:"
   ]
  },
  {
   "cell_type": "markdown",
   "metadata": {},
   "source": [
    "#### It is worth pointing out that the standard deviation of the entries and the total balance is much higher than of the expenses. There is a much lower dispertion in expenses, so probably much higher density in the middle of the distribution."
   ]
  },
  {
   "cell_type": "markdown",
   "metadata": {},
   "source": [
    "### Looking at the interquartile range (25% to 75%):"
   ]
  },
  {
   "cell_type": "markdown",
   "metadata": {},
   "source": [
    "#### Income is mostly 10 euros to 175 euros. Expenses are mostly between 2.5 euros and 17.23 euros. Balance mst of the time is between 405 euros and 1170.21 euros."
   ]
  },
  {
   "cell_type": "markdown",
   "metadata": {},
   "source": [
    "# Plots"
   ]
  },
  {
   "cell_type": "code",
   "execution_count": 71,
   "metadata": {},
   "outputs": [],
   "source": [
    "import matplotlib.pyplot as plt\n",
    "import seaborn as sns\n",
    "\n",
    "%matplotlib inline"
   ]
  },
  {
   "cell_type": "markdown",
   "metadata": {},
   "source": [
    "#### Visually confirm centralization/dispertion analysis"
   ]
  },
  {
   "cell_type": "code",
   "execution_count": 64,
   "metadata": {},
   "outputs": [
    {
     "data": {
      "text/plain": [
       "(array([1.000e+00, 0.000e+00, 1.000e+00, 1.000e+00, 0.000e+00, 2.000e+00,\n",
       "        0.000e+00, 1.000e+00, 2.000e+00, 4.000e+00, 6.000e+00, 9.000e+00,\n",
       "        6.600e+01, 1.086e+03, 1.800e+01, 1.100e+01, 5.000e+00, 2.000e+00,\n",
       "        0.000e+00, 2.000e+00, 0.000e+00, 2.000e+00, 0.000e+00, 1.000e+00,\n",
       "        2.000e+00, 0.000e+00, 0.000e+00, 0.000e+00, 2.000e+00, 0.000e+00,\n",
       "        0.000e+00, 0.000e+00, 0.000e+00, 0.000e+00, 0.000e+00, 0.000e+00,\n",
       "        0.000e+00, 0.000e+00, 0.000e+00, 1.000e+00]),\n",
       " array([-2000.    , -1849.9805, -1699.961 , -1549.9415, -1399.922 ,\n",
       "        -1249.9025, -1099.883 ,  -949.8635,  -799.844 ,  -649.8245,\n",
       "         -499.805 ,  -349.7855,  -199.766 ,   -49.7465,   100.273 ,\n",
       "          250.2925,   400.312 ,   550.3315,   700.351 ,   850.3705,\n",
       "         1000.39  ,  1150.4095,  1300.429 ,  1450.4485,  1600.468 ,\n",
       "         1750.4875,  1900.507 ,  2050.5265,  2200.546 ,  2350.5655,\n",
       "         2500.585 ,  2650.6045,  2800.624 ,  2950.6435,  3100.663 ,\n",
       "         3250.6825,  3400.702 ,  3550.7215,  3700.741 ,  3850.7605,\n",
       "         4000.78  ]),\n",
       " <a list of 40 Patch objects>)"
      ]
     },
     "execution_count": 64,
     "metadata": {},
     "output_type": "execute_result"
    },
    {
     "data": {
      "image/png": "[encoded data removed]",
      "text/plain": [
       "<Figure size 432x288 with 1 Axes>"
      ]
     },
     "metadata": {
      "needs_background": "light"
     },
     "output_type": "display_data"
    }
   ],
   "source": [
    "plt.hist(finance[\"Ingreso y Gasto\"], bins = 40) "
   ]
  },
  {
   "cell_type": "code",
   "execution_count": 65,
   "metadata": {},
   "outputs": [
    {
     "data": {
      "text/plain": [
       "(array([115.,  65., 105., 108., 144.,  79.,  77.,  97.,  87.,  59.,  39.,\n",
       "         50.,  25.,  18.,   5.,  13.,  11.,   5.,  17.,   3.,   8.,  22.,\n",
       "          8.,  18.,   6.,   3.,   0.,   2.,   2.,   2.,  13.,  11.,   0.,\n",
       "          0.,   0.,   1.,   1.,   0.,   2.,   4.]),\n",
       " array([ -11.84   ,  111.92125,  235.6825 ,  359.44375,  483.205  ,\n",
       "         606.96625,  730.7275 ,  854.48875,  978.25   , 1102.01125,\n",
       "        1225.7725 , 1349.53375, 1473.295  , 1597.05625, 1720.8175 ,\n",
       "        1844.57875, 1968.34   , 2092.10125, 2215.8625 , 2339.62375,\n",
       "        2463.385  , 2587.14625, 2710.9075 , 2834.66875, 2958.43   ,\n",
       "        3082.19125, 3205.9525 , 3329.71375, 3453.475  , 3577.23625,\n",
       "        3700.9975 , 3824.75875, 3948.52   , 4072.28125, 4196.0425 ,\n",
       "        4319.80375, 4443.565  , 4567.32625, 4691.0875 , 4814.84875,\n",
       "        4938.61   ]),\n",
       " <a list of 40 Patch objects>)"
      ]
     },
     "execution_count": 65,
     "metadata": {},
     "output_type": "execute_result"
    },
    {
     "data": {
      "image/png": "[encoded data removed]",
      "text/plain": [
       "<Figure size 432x288 with 1 Axes>"
      ]
     },
     "metadata": {
      "needs_background": "light"
     },
     "output_type": "display_data"
    }
   ],
   "source": [
    "plt.hist(finance[\"Saldo\"], bins = 40) "
   ]
  },
  {
   "cell_type": "code",
   "execution_count": 66,
   "metadata": {},
   "outputs": [
    {
     "data": {
      "text/plain": [
       "<matplotlib.axes._subplots.AxesSubplot at 0x11d615198>"
      ]
     },
     "execution_count": 66,
     "metadata": {},
     "output_type": "execute_result"
    },
    {
     "data": {
      "image/png": "[encoded data removed]",
      "text/plain": [
       "<Figure size 432x288 with 1 Axes>"
      ]
     },
     "metadata": {
      "needs_background": "light"
     },
     "output_type": "display_data"
    }
   ],
   "source": [
    "sns.boxplot(x=finance[\"Ingreso y Gasto\"])"
   ]
  },
  {
   "cell_type": "code",
   "execution_count": 67,
   "metadata": {},
   "outputs": [
    {
     "data": {
      "text/plain": [
       "<matplotlib.axes._subplots.AxesSubplot at 0x11d63a9b0>"
      ]
     },
     "execution_count": 67,
     "metadata": {},
     "output_type": "execute_result"
    },
    {
     "data": {
      "image/png": "[encoded data removed]",
      "text/plain": [
       "<Figure size 432x288 with 1 Axes>"
      ]
     },
     "metadata": {
      "needs_background": "light"
     },
     "output_type": "display_data"
    }
   ],
   "source": [
    "sns.boxplot(x=finance[\"Saldo\"])"
   ]
  },
  {
   "cell_type": "code",
   "execution_count": 72,
   "metadata": {},
   "outputs": [
    {
     "data": {
      "text/plain": [
       "[<matplotlib.lines.Line2D at 0x11dd8c748>]"
      ]
     },
     "execution_count": 72,
     "metadata": {},
     "output_type": "execute_result"
    },
    {
     "data": {
      "image/png": "[encoded data removed]",
      "text/plain": [
       "<Figure size 432x288 with 1 Axes>"
      ]
     },
     "metadata": {
      "needs_background": "light"
     },
     "output_type": "display_data"
    }
   ],
   "source": [
    "plt.plot(finance[\"Fecha operacion\"], finance[\"Ingreso y Gasto\"]) # High peaks are sometimes observed but most transactions are in the middle"
   ]
  },
  {
   "cell_type": "code",
   "execution_count": null,
   "metadata": {},
   "outputs": [],
   "source": []
  }
 ],
 "metadata": {
  "kernelspec": {
   "display_name": "Python 3",
   "language": "python",
   "name": "python3"
  },
  "language_info": {
   "codemirror_mode": {
    "name": "ipython",
    "version": 3
   },
   "file_extension": ".py",
   "mimetype": "text/x-python",
   "name": "python",
   "nbconvert_exporter": "python",
   "pygments_lexer": "ipython3",
   "version": "3.7.2"
  }
 },
 "nbformat": 4,
 "nbformat_minor": 2
}
