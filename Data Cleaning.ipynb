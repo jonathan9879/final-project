{
 "cells": [
  {
   "cell_type": "markdown",
   "metadata": {},
   "source": [
    "# Quick look at the data"
   ]
  },
  {
   "cell_type": "code",
   "execution_count": 219,
   "metadata": {},
   "outputs": [],
   "source": [
    "import pandas as pd"
   ]
  },
  {
   "cell_type": "code",
   "execution_count": 220,
   "metadata": {},
   "outputs": [],
   "source": [
    "col_names = [\"Numero de cuenta\", \"Oficina\", \"Divisa\", \"Fecha operacion\", \"Fecha valor\", \n",
    "               \"Ingreso (+)\", \"Gasto (-)\", \"Saldo (+)\", \"Saldo (-)\", \"Concepto comun\",\n",
    "               \"Concepto propio\", \"Referencia 1\", \"Referencia 2\", \"Concepto complementario 1\",\n",
    "               \"Concepto complementario 2\"]\n",
    "\n",
    "finance = pd.read_csv(\"finance_2l_utf.csv\", header = None, index_col=False, names = col_names_2, sep = ';')"
   ]
  },
  {
   "cell_type": "code",
   "execution_count": 221,
   "metadata": {},
   "outputs": [
    {
     "data": {
      "text/html": [
       "<div>\n",
       "<style scoped>\n",
       "    .dataframe tbody tr th:only-of-type {\n",
       "        vertical-align: middle;\n",
       "    }\n",
       "\n",
       "    .dataframe tbody tr th {\n",
       "        vertical-align: top;\n",
       "    }\n",
       "\n",
       "    .dataframe thead th {\n",
       "        text-align: right;\n",
       "    }\n",
       "</style>\n",
       "<table border=\"1\" class=\"dataframe\">\n",
       "  <thead>\n",
       "    <tr style=\"text-align: right;\">\n",
       "      <th></th>\n",
       "      <th>Numero de cuenta</th>\n",
       "      <th>Oficina</th>\n",
       "      <th>Divisa</th>\n",
       "      <th>Fecha operacion</th>\n",
       "      <th>Fecha valor</th>\n",
       "      <th>Ingreso (+)</th>\n",
       "      <th>Gasto (-)</th>\n",
       "      <th>Saldo (+)</th>\n",
       "      <th>Saldo (-)</th>\n",
       "      <th>Concepto comun</th>\n",
       "      <th>Concepto propio</th>\n",
       "      <th>Referencia 1</th>\n",
       "      <th>Referencia 2</th>\n",
       "      <th>Concepto complementario 1</th>\n",
       "      <th>Concepto complementario 2</th>\n",
       "    </tr>\n",
       "  </thead>\n",
       "  <tbody>\n",
       "    <tr>\n",
       "      <th>0</th>\n",
       "      <td>2100 0889 40 0100978503</td>\n",
       "      <td>9736</td>\n",
       "      <td>EUR</td>\n",
       "      <td>17/04/2019</td>\n",
       "      <td>17/04/2019</td>\n",
       "      <td>NaN</td>\n",
       "      <td>1,73</td>\n",
       "      <td>126,98</td>\n",
       "      <td>NaN</td>\n",
       "      <td>12</td>\n",
       "      <td>40</td>\n",
       "      <td>0</td>\n",
       "      <td>4,59986E+15</td>\n",
       "      <td></td>\n",
       "      <td>BON AREA</td>\n",
       "    </tr>\n",
       "    <tr>\n",
       "      <th>1</th>\n",
       "      <td>2100 0889 40 0100978503</td>\n",
       "      <td>9792</td>\n",
       "      <td>EUR</td>\n",
       "      <td>17/04/2019</td>\n",
       "      <td>17/04/2019</td>\n",
       "      <td>8</td>\n",
       "      <td>NaN</td>\n",
       "      <td>128,71</td>\n",
       "      <td>NaN</td>\n",
       "      <td>2</td>\n",
       "      <td>2</td>\n",
       "      <td>0</td>\n",
       "      <td>ORIGEN: 00810900</td>\n",
       "      <td>00810900-ADRIA FERRER ABAD</td>\n",
       "      <td>TRANSF. A SU FAVOR</td>\n",
       "    </tr>\n",
       "    <tr>\n",
       "      <th>2</th>\n",
       "      <td>2100 0889 40 0100978503</td>\n",
       "      <td>9792</td>\n",
       "      <td>EUR</td>\n",
       "      <td>17/04/2019</td>\n",
       "      <td>17/04/2019</td>\n",
       "      <td>9</td>\n",
       "      <td>NaN</td>\n",
       "      <td>120,71</td>\n",
       "      <td>NaN</td>\n",
       "      <td>2</td>\n",
       "      <td>2</td>\n",
       "      <td>0</td>\n",
       "      <td>ORIGEN: 00810053</td>\n",
       "      <td>00810053-PAU SAMPIETRO FABREGAS</td>\n",
       "      <td>TRANSF. A SU FAVOR</td>\n",
       "    </tr>\n",
       "    <tr>\n",
       "      <th>3</th>\n",
       "      <td>2100 0889 40 0100978503</td>\n",
       "      <td>9736</td>\n",
       "      <td>EUR</td>\n",
       "      <td>16/04/2019</td>\n",
       "      <td>16/04/2019</td>\n",
       "      <td>NaN</td>\n",
       "      <td>25</td>\n",
       "      <td>111,71</td>\n",
       "      <td>NaN</td>\n",
       "      <td>12</td>\n",
       "      <td>40</td>\n",
       "      <td>0</td>\n",
       "      <td>4,59986E+15</td>\n",
       "      <td></td>\n",
       "      <td>PECUNIA CARDS EDE</td>\n",
       "    </tr>\n",
       "    <tr>\n",
       "      <th>4</th>\n",
       "      <td>2100 0889 40 0100978503</td>\n",
       "      <td>569</td>\n",
       "      <td>EUR</td>\n",
       "      <td>16/04/2019</td>\n",
       "      <td>16/04/2019</td>\n",
       "      <td>NaN</td>\n",
       "      <td>35,08</td>\n",
       "      <td>136,71</td>\n",
       "      <td>NaN</td>\n",
       "      <td>3</td>\n",
       "      <td>1</td>\n",
       "      <td>0</td>\n",
       "      <td>20000005147</td>\n",
       "      <td>A66098435000</td>\n",
       "      <td>AIGUES DE BARC</td>\n",
       "    </tr>\n",
       "    <tr>\n",
       "      <th>5</th>\n",
       "      <td>2100 0889 40 0100978503</td>\n",
       "      <td>9736</td>\n",
       "      <td>EUR</td>\n",
       "      <td>13/04/2019</td>\n",
       "      <td>13/04/2019</td>\n",
       "      <td>NaN</td>\n",
       "      <td>1</td>\n",
       "      <td>171,79</td>\n",
       "      <td>NaN</td>\n",
       "      <td>12</td>\n",
       "      <td>40</td>\n",
       "      <td>0</td>\n",
       "      <td>4,59986E+15</td>\n",
       "      <td></td>\n",
       "      <td>MCDONALDS PELAYO</td>\n",
       "    </tr>\n",
       "    <tr>\n",
       "      <th>6</th>\n",
       "      <td>2100 0889 40 0100978503</td>\n",
       "      <td>9736</td>\n",
       "      <td>EUR</td>\n",
       "      <td>11/04/2019</td>\n",
       "      <td>11/04/2019</td>\n",
       "      <td>NaN</td>\n",
       "      <td>3</td>\n",
       "      <td>172,79</td>\n",
       "      <td>NaN</td>\n",
       "      <td>12</td>\n",
       "      <td>40</td>\n",
       "      <td>0</td>\n",
       "      <td>4,59986E+15</td>\n",
       "      <td></td>\n",
       "      <td>ANTIC TEATRE</td>\n",
       "    </tr>\n",
       "    <tr>\n",
       "      <th>7</th>\n",
       "      <td>2100 0889 40 0100978503</td>\n",
       "      <td>9736</td>\n",
       "      <td>EUR</td>\n",
       "      <td>11/04/2019</td>\n",
       "      <td>11/04/2019</td>\n",
       "      <td>NaN</td>\n",
       "      <td>25</td>\n",
       "      <td>175,79</td>\n",
       "      <td>NaN</td>\n",
       "      <td>12</td>\n",
       "      <td>40</td>\n",
       "      <td>0</td>\n",
       "      <td>4,59986E+15</td>\n",
       "      <td></td>\n",
       "      <td>PECUNIA CARDS EDE</td>\n",
       "    </tr>\n",
       "    <tr>\n",
       "      <th>8</th>\n",
       "      <td>2100 0889 40 0100978503</td>\n",
       "      <td>9736</td>\n",
       "      <td>EUR</td>\n",
       "      <td>11/04/2019</td>\n",
       "      <td>11/04/2019</td>\n",
       "      <td>NaN</td>\n",
       "      <td>2,2</td>\n",
       "      <td>200,79</td>\n",
       "      <td>NaN</td>\n",
       "      <td>12</td>\n",
       "      <td>40</td>\n",
       "      <td>0</td>\n",
       "      <td>4,59986E+15</td>\n",
       "      <td></td>\n",
       "      <td>IZ *Skye Coffee S</td>\n",
       "    </tr>\n",
       "    <tr>\n",
       "      <th>9</th>\n",
       "      <td>2100 0889 40 0100978503</td>\n",
       "      <td>9736</td>\n",
       "      <td>EUR</td>\n",
       "      <td>08/04/2019</td>\n",
       "      <td>08/04/2019</td>\n",
       "      <td>NaN</td>\n",
       "      <td>41,55</td>\n",
       "      <td>202,99</td>\n",
       "      <td>NaN</td>\n",
       "      <td>12</td>\n",
       "      <td>40</td>\n",
       "      <td>0</td>\n",
       "      <td>4,59986E+15</td>\n",
       "      <td></td>\n",
       "      <td>PAYPAL *GRAMMARLY</td>\n",
       "    </tr>\n",
       "  </tbody>\n",
       "</table>\n",
       "</div>"
      ],
      "text/plain": [
       "          Numero de cuenta  Oficina Divisa Fecha operacion Fecha valor  \\\n",
       "0  2100 0889 40 0100978503     9736    EUR      17/04/2019  17/04/2019   \n",
       "1  2100 0889 40 0100978503     9792    EUR      17/04/2019  17/04/2019   \n",
       "2  2100 0889 40 0100978503     9792    EUR      17/04/2019  17/04/2019   \n",
       "3  2100 0889 40 0100978503     9736    EUR      16/04/2019  16/04/2019   \n",
       "4  2100 0889 40 0100978503      569    EUR      16/04/2019  16/04/2019   \n",
       "5  2100 0889 40 0100978503     9736    EUR      13/04/2019  13/04/2019   \n",
       "6  2100 0889 40 0100978503     9736    EUR      11/04/2019  11/04/2019   \n",
       "7  2100 0889 40 0100978503     9736    EUR      11/04/2019  11/04/2019   \n",
       "8  2100 0889 40 0100978503     9736    EUR      11/04/2019  11/04/2019   \n",
       "9  2100 0889 40 0100978503     9736    EUR      08/04/2019  08/04/2019   \n",
       "\n",
       "  Ingreso (+) Gasto (-) Saldo (+) Saldo (-)  Concepto comun  Concepto propio  \\\n",
       "0         NaN      1,73    126,98       NaN              12               40   \n",
       "1           8       NaN    128,71       NaN               2                2   \n",
       "2           9       NaN    120,71       NaN               2                2   \n",
       "3         NaN        25    111,71       NaN              12               40   \n",
       "4         NaN     35,08    136,71       NaN               3                1   \n",
       "5         NaN         1    171,79       NaN              12               40   \n",
       "6         NaN         3    172,79       NaN              12               40   \n",
       "7         NaN        25    175,79       NaN              12               40   \n",
       "8         NaN       2,2    200,79       NaN              12               40   \n",
       "9         NaN     41,55    202,99       NaN              12               40   \n",
       "\n",
       "  Referencia 1      Referencia 2               Concepto complementario 1  \\\n",
       "0            0       4,59986E+15                                           \n",
       "1            0  ORIGEN: 00810900  00810900-ADRIA FERRER ABAD               \n",
       "2            0  ORIGEN: 00810053  00810053-PAU SAMPIETRO FABREGAS          \n",
       "3            0       4,59986E+15                                           \n",
       "4            0       20000005147  A66098435000                             \n",
       "5            0       4,59986E+15                                           \n",
       "6            0       4,59986E+15                                           \n",
       "7            0       4,59986E+15                                           \n",
       "8            0       4,59986E+15                                           \n",
       "9            0       4,59986E+15                                           \n",
       "\n",
       "                Concepto complementario 2  \n",
       "0  BON AREA                                \n",
       "1  TRANSF. A SU FAVOR                      \n",
       "2  TRANSF. A SU FAVOR                      \n",
       "3  PECUNIA CARDS EDE                       \n",
       "4  AIGUES DE BARC                          \n",
       "5  MCDONALDS PELAYO                        \n",
       "6  ANTIC TEATRE                            \n",
       "7  PECUNIA CARDS EDE                       \n",
       "8  IZ *Skye Coffee S                       \n",
       "9  PAYPAL *GRAMMARLY                       "
      ]
     },
     "execution_count": 221,
     "metadata": {},
     "output_type": "execute_result"
    }
   ],
   "source": [
    "finance.head(10)"
   ]
  },
  {
   "cell_type": "code",
   "execution_count": 222,
   "metadata": {},
   "outputs": [
    {
     "data": {
      "text/html": [
       "<div>\n",
       "<style scoped>\n",
       "    .dataframe tbody tr th:only-of-type {\n",
       "        vertical-align: middle;\n",
       "    }\n",
       "\n",
       "    .dataframe tbody tr th {\n",
       "        vertical-align: top;\n",
       "    }\n",
       "\n",
       "    .dataframe thead th {\n",
       "        text-align: right;\n",
       "    }\n",
       "</style>\n",
       "<table border=\"1\" class=\"dataframe\">\n",
       "  <thead>\n",
       "    <tr style=\"text-align: right;\">\n",
       "      <th></th>\n",
       "      <th>Numero de cuenta</th>\n",
       "      <th>Oficina</th>\n",
       "      <th>Divisa</th>\n",
       "      <th>Fecha operacion</th>\n",
       "      <th>Fecha valor</th>\n",
       "      <th>Ingreso (+)</th>\n",
       "      <th>Gasto (-)</th>\n",
       "      <th>Saldo (+)</th>\n",
       "      <th>Saldo (-)</th>\n",
       "      <th>Concepto comun</th>\n",
       "      <th>Concepto propio</th>\n",
       "      <th>Referencia 1</th>\n",
       "      <th>Referencia 2</th>\n",
       "      <th>Concepto complementario 1</th>\n",
       "      <th>Concepto complementario 2</th>\n",
       "    </tr>\n",
       "  </thead>\n",
       "  <tbody>\n",
       "    <tr>\n",
       "      <th>1215</th>\n",
       "      <td>2100 0889 40 0100978503</td>\n",
       "      <td>3002</td>\n",
       "      <td>EUR</td>\n",
       "      <td>08/05/2015</td>\n",
       "      <td>08/05/2015</td>\n",
       "      <td>210</td>\n",
       "      <td>NaN</td>\n",
       "      <td>2.030,98</td>\n",
       "      <td>NaN</td>\n",
       "      <td>2</td>\n",
       "      <td>40</td>\n",
       "      <td>0</td>\n",
       "      <td>4,59986E+15</td>\n",
       "      <td></td>\n",
       "      <td>INGRESO CAJERO</td>\n",
       "    </tr>\n",
       "    <tr>\n",
       "      <th>1216</th>\n",
       "      <td>2100 0889 40 0100978503</td>\n",
       "      <td>3002</td>\n",
       "      <td>EUR</td>\n",
       "      <td>07/05/2015</td>\n",
       "      <td>07/05/2015</td>\n",
       "      <td>75</td>\n",
       "      <td>NaN</td>\n",
       "      <td>1.820,98</td>\n",
       "      <td>NaN</td>\n",
       "      <td>2</td>\n",
       "      <td>40</td>\n",
       "      <td>0</td>\n",
       "      <td>4,59986E+15</td>\n",
       "      <td></td>\n",
       "      <td>INGRESO CAJERO</td>\n",
       "    </tr>\n",
       "    <tr>\n",
       "      <th>1217</th>\n",
       "      <td>2100 0889 40 0100978503</td>\n",
       "      <td>5000</td>\n",
       "      <td>EUR</td>\n",
       "      <td>07/05/2015</td>\n",
       "      <td>07/05/2015</td>\n",
       "      <td>1.500,00</td>\n",
       "      <td>NaN</td>\n",
       "      <td>1.745,98</td>\n",
       "      <td>NaN</td>\n",
       "      <td>2</td>\n",
       "      <td>48</td>\n",
       "      <td>0</td>\n",
       "      <td></td>\n",
       "      <td>BEQUES I AJUTS 2014</td>\n",
       "      <td>GENERALITAT DE CA</td>\n",
       "    </tr>\n",
       "    <tr>\n",
       "      <th>1218</th>\n",
       "      <td>2100 0889 40 0100978503</td>\n",
       "      <td>9736</td>\n",
       "      <td>EUR</td>\n",
       "      <td>04/05/2015</td>\n",
       "      <td>04/05/2015</td>\n",
       "      <td>NaN</td>\n",
       "      <td>28,15</td>\n",
       "      <td>245,98</td>\n",
       "      <td>NaN</td>\n",
       "      <td>12</td>\n",
       "      <td>40</td>\n",
       "      <td>0</td>\n",
       "      <td>4,59986E+15</td>\n",
       "      <td></td>\n",
       "      <td>PAYPAL *TELCELCOM</td>\n",
       "    </tr>\n",
       "    <tr>\n",
       "      <th>1219</th>\n",
       "      <td>2100 0889 40 0100978503</td>\n",
       "      <td>1198</td>\n",
       "      <td>EUR</td>\n",
       "      <td>03/05/2015</td>\n",
       "      <td>03/05/2015</td>\n",
       "      <td>NaN</td>\n",
       "      <td>50</td>\n",
       "      <td>274,13</td>\n",
       "      <td>NaN</td>\n",
       "      <td>11</td>\n",
       "      <td>40</td>\n",
       "      <td>0</td>\n",
       "      <td>4,59986E+15</td>\n",
       "      <td></td>\n",
       "      <td>REINT.CAJERO</td>\n",
       "    </tr>\n",
       "    <tr>\n",
       "      <th>1220</th>\n",
       "      <td>2100 0889 40 0100978503</td>\n",
       "      <td>3002</td>\n",
       "      <td>EUR</td>\n",
       "      <td>01/05/2015</td>\n",
       "      <td>04/05/2015</td>\n",
       "      <td>290</td>\n",
       "      <td>NaN</td>\n",
       "      <td>324,13</td>\n",
       "      <td>NaN</td>\n",
       "      <td>2</td>\n",
       "      <td>40</td>\n",
       "      <td>0</td>\n",
       "      <td>4,59986E+15</td>\n",
       "      <td></td>\n",
       "      <td>INGRESO CAJERO</td>\n",
       "    </tr>\n",
       "    <tr>\n",
       "      <th>1221</th>\n",
       "      <td>2100 0889 40 0100978503</td>\n",
       "      <td>9736</td>\n",
       "      <td>EUR</td>\n",
       "      <td>01/05/2015</td>\n",
       "      <td>01/05/2015</td>\n",
       "      <td>NaN</td>\n",
       "      <td>8,99</td>\n",
       "      <td>34,13</td>\n",
       "      <td>NaN</td>\n",
       "      <td>12</td>\n",
       "      <td>40</td>\n",
       "      <td>0</td>\n",
       "      <td>4,59986E+15</td>\n",
       "      <td></td>\n",
       "      <td>PAYPAL *JEANNPOLC</td>\n",
       "    </tr>\n",
       "    <tr>\n",
       "      <th>1222</th>\n",
       "      <td>2100 0889 40 0100978503</td>\n",
       "      <td>820</td>\n",
       "      <td>EUR</td>\n",
       "      <td>22/04/2015</td>\n",
       "      <td>22/04/2015</td>\n",
       "      <td>NaN</td>\n",
       "      <td>10,3</td>\n",
       "      <td>43,12</td>\n",
       "      <td>NaN</td>\n",
       "      <td>17</td>\n",
       "      <td>16</td>\n",
       "      <td>7,90013E+11</td>\n",
       "      <td>Y1535445W79000</td>\n",
       "      <td></td>\n",
       "      <td>IMP.AEAT-MOD:790</td>\n",
       "    </tr>\n",
       "    <tr>\n",
       "      <th>1223</th>\n",
       "      <td>2100 0889 40 0100978503</td>\n",
       "      <td>820</td>\n",
       "      <td>EUR</td>\n",
       "      <td>22/04/2015</td>\n",
       "      <td>22/04/2015</td>\n",
       "      <td>NaN</td>\n",
       "      <td>10,6</td>\n",
       "      <td>53,42</td>\n",
       "      <td>NaN</td>\n",
       "      <td>17</td>\n",
       "      <td>16</td>\n",
       "      <td>7,90013E+11</td>\n",
       "      <td>Y1703074F79000</td>\n",
       "      <td></td>\n",
       "      <td>IMP.AEAT-MOD:790</td>\n",
       "    </tr>\n",
       "    <tr>\n",
       "      <th>1224</th>\n",
       "      <td>2100 0889 40 0100978503</td>\n",
       "      <td>9736</td>\n",
       "      <td>EUR</td>\n",
       "      <td>20/04/2015</td>\n",
       "      <td>20/04/2015</td>\n",
       "      <td>NaN</td>\n",
       "      <td>7,55</td>\n",
       "      <td>64,02</td>\n",
       "      <td>NaN</td>\n",
       "      <td>12</td>\n",
       "      <td>40</td>\n",
       "      <td>0</td>\n",
       "      <td>4,59986E+15</td>\n",
       "      <td></td>\n",
       "      <td>ALIBRI LLIBRERIA</td>\n",
       "    </tr>\n",
       "  </tbody>\n",
       "</table>\n",
       "</div>"
      ],
      "text/plain": [
       "             Numero de cuenta  Oficina Divisa Fecha operacion Fecha valor  \\\n",
       "1215  2100 0889 40 0100978503     3002    EUR      08/05/2015  08/05/2015   \n",
       "1216  2100 0889 40 0100978503     3002    EUR      07/05/2015  07/05/2015   \n",
       "1217  2100 0889 40 0100978503     5000    EUR      07/05/2015  07/05/2015   \n",
       "1218  2100 0889 40 0100978503     9736    EUR      04/05/2015  04/05/2015   \n",
       "1219  2100 0889 40 0100978503     1198    EUR      03/05/2015  03/05/2015   \n",
       "1220  2100 0889 40 0100978503     3002    EUR      01/05/2015  04/05/2015   \n",
       "1221  2100 0889 40 0100978503     9736    EUR      01/05/2015  01/05/2015   \n",
       "1222  2100 0889 40 0100978503      820    EUR      22/04/2015  22/04/2015   \n",
       "1223  2100 0889 40 0100978503      820    EUR      22/04/2015  22/04/2015   \n",
       "1224  2100 0889 40 0100978503     9736    EUR      20/04/2015  20/04/2015   \n",
       "\n",
       "     Ingreso (+) Gasto (-) Saldo (+) Saldo (-)  Concepto comun  \\\n",
       "1215         210       NaN  2.030,98       NaN               2   \n",
       "1216          75       NaN  1.820,98       NaN               2   \n",
       "1217    1.500,00       NaN  1.745,98       NaN               2   \n",
       "1218         NaN     28,15    245,98       NaN              12   \n",
       "1219         NaN        50    274,13       NaN              11   \n",
       "1220         290       NaN    324,13       NaN               2   \n",
       "1221         NaN      8,99     34,13       NaN              12   \n",
       "1222         NaN      10,3     43,12       NaN              17   \n",
       "1223         NaN      10,6     53,42       NaN              17   \n",
       "1224         NaN      7,55     64,02       NaN              12   \n",
       "\n",
       "      Concepto propio Referencia 1      Referencia 2  \\\n",
       "1215               40            0       4,59986E+15   \n",
       "1216               40            0       4,59986E+15   \n",
       "1217               48            0                     \n",
       "1218               40            0       4,59986E+15   \n",
       "1219               40            0       4,59986E+15   \n",
       "1220               40            0       4,59986E+15   \n",
       "1221               40            0       4,59986E+15   \n",
       "1222               16  7,90013E+11  Y1535445W79000     \n",
       "1223               16  7,90013E+11  Y1703074F79000     \n",
       "1224               40            0       4,59986E+15   \n",
       "\n",
       "                   Concepto complementario 1  \\\n",
       "1215                                           \n",
       "1216                                           \n",
       "1217  BEQUES I AJUTS 2014                      \n",
       "1218                                           \n",
       "1219                                           \n",
       "1220                                           \n",
       "1221                                           \n",
       "1222                                           \n",
       "1223                                           \n",
       "1224                                           \n",
       "\n",
       "                   Concepto complementario 2  \n",
       "1215  INGRESO CAJERO                          \n",
       "1216  INGRESO CAJERO                          \n",
       "1217  GENERALITAT DE CA                       \n",
       "1218  PAYPAL *TELCELCOM                       \n",
       "1219  REINT.CAJERO                            \n",
       "1220  INGRESO CAJERO                          \n",
       "1221  PAYPAL *JEANNPOLC                       \n",
       "1222  IMP.AEAT-MOD:790                        \n",
       "1223  IMP.AEAT-MOD:790                        \n",
       "1224  ALIBRI LLIBRERIA                        "
      ]
     },
     "execution_count": 222,
     "metadata": {},
     "output_type": "execute_result"
    }
   ],
   "source": [
    "finance.tail(10)"
   ]
  },
  {
   "cell_type": "code",
   "execution_count": 223,
   "metadata": {},
   "outputs": [
    {
     "name": "stdout",
     "output_type": "stream",
     "text": [
      "<class 'pandas.core.frame.DataFrame'>\n",
      "RangeIndex: 1225 entries, 0 to 1224\n",
      "Data columns (total 15 columns):\n",
      "Numero de cuenta             1225 non-null object\n",
      "Oficina                      1225 non-null int64\n",
      "Divisa                       1225 non-null object\n",
      "Fecha operacion              1225 non-null object\n",
      "Fecha valor                  1225 non-null object\n",
      "Ingreso (+)                  147 non-null object\n",
      "Gasto (-)                    1078 non-null object\n",
      "Saldo (+)                    1224 non-null object\n",
      "Saldo (-)                    1 non-null object\n",
      "Concepto comun               1225 non-null int64\n",
      "Concepto propio              1225 non-null int64\n",
      "Referencia 1                 1225 non-null object\n",
      "Referencia 2                 1225 non-null object\n",
      "Concepto complementario 1    1225 non-null object\n",
      "Concepto complementario 2    1225 non-null object\n",
      "dtypes: int64(3), object(12)\n",
      "memory usage: 143.6+ KB\n"
     ]
    }
   ],
   "source": [
    "finance.info() # Found some null values in [\"ingreso\", \"gasto\"], [\"saldo(+)\", \"saldo(+)\"] -> seem to be complementary features"
   ]
  },
  {
   "cell_type": "markdown",
   "metadata": {},
   "source": [
    "# Drop columns that are not necessary for this analysis"
   ]
  },
  {
   "cell_type": "markdown",
   "metadata": {},
   "source": [
    "#### Critical data columns that won't be dropped are the following:"
   ]
  },
  {
   "cell_type": "markdown",
   "metadata": {},
   "source": [
    "#### \"Fecha operacion\", \"Ingreso (+)\", \"Gasto (-)\", \"Saldo (+)\", \"Saldo (-)\", \"Concepto complementario 1\", \"Concepto complementario 2\""
   ]
  },
  {
   "cell_type": "code",
   "execution_count": 224,
   "metadata": {},
   "outputs": [
    {
     "data": {
      "text/plain": [
       "1"
      ]
     },
     "execution_count": 224,
     "metadata": {},
     "output_type": "execute_result"
    }
   ],
   "source": [
    "finance[\"Numero de cuenta\"].value_counts().count() # Account number is always the same because the data is from one single account -> UNNECESSARY"
   ]
  },
  {
   "cell_type": "markdown",
   "metadata": {},
   "source": [
    "#### From now on same account number is assumed -> DROP"
   ]
  },
  {
   "cell_type": "code",
   "execution_count": 225,
   "metadata": {},
   "outputs": [
    {
     "data": {
      "text/plain": [
       "28"
      ]
     },
     "execution_count": 225,
     "metadata": {},
     "output_type": "execute_result"
    }
   ],
   "source": [
    "finance[\"Oficina\"].value_counts().count()"
   ]
  },
  {
   "cell_type": "markdown",
   "metadata": {},
   "source": [
    "#### There are 28 different offices -> Maybe this feature is useful in the future"
   ]
  },
  {
   "cell_type": "code",
   "execution_count": 226,
   "metadata": {},
   "outputs": [
    {
     "data": {
      "text/plain": [
       "EUR    1225\n",
       "Name: Divisa, dtype: int64"
      ]
     },
     "execution_count": 226,
     "metadata": {},
     "output_type": "execute_result"
    }
   ],
   "source": [
    "finance[\"Divisa\"].value_counts() # Account is european (shared currency EUR) and clearly hasn't had any other currency -> UNNECESSARY"
   ]
  },
  {
   "cell_type": "markdown",
   "metadata": {},
   "source": [
    "#### From now on single EUR currency is assumed -> DROP"
   ]
  },
  {
   "cell_type": "code",
   "execution_count": 227,
   "metadata": {},
   "outputs": [
    {
     "data": {
      "text/plain": [
       "59"
      ]
     },
     "execution_count": 227,
     "metadata": {},
     "output_type": "execute_result"
    }
   ],
   "source": [
    "finance[finance[\"Fecha operacion\"] != finance['Fecha valor']].count()[0] # There are 59"
   ]
  },
  {
   "cell_type": "markdown",
   "metadata": {},
   "source": [
    "#### Some operations were finished pressumably days after the operation request -> Maybe 'Fecha valor' is useful in the future?"
   ]
  },
  {
   "cell_type": "markdown",
   "metadata": {},
   "source": [
    "#### After having a look at tail of data it is safe to say that transactions follow \"Fecha operacion\" -> DROP \"Fecha valor\" "
   ]
  },
  {
   "cell_type": "code",
   "execution_count": 228,
   "metadata": {},
   "outputs": [
    {
     "data": {
      "text/plain": [
       "12    936\n",
       "2     145\n",
       "11     56\n",
       "4      35\n",
       "3      35\n",
       "Name: Concepto comun, dtype: int64"
      ]
     },
     "execution_count": 228,
     "metadata": {},
     "output_type": "execute_result"
    }
   ],
   "source": [
    "finance[\"Concepto comun\"].value_counts().head()"
   ]
  },
  {
   "cell_type": "code",
   "execution_count": 229,
   "metadata": {},
   "outputs": [
    {
     "data": {
      "text/plain": [
       "40    1072\n",
       "67      49\n",
       "2       24\n",
       "1       23\n",
       "32      17\n",
       "Name: Concepto propio, dtype: int64"
      ]
     },
     "execution_count": 229,
     "metadata": {},
     "output_type": "execute_result"
    }
   ],
   "source": [
    "finance[\"Concepto propio\"].value_counts().head()"
   ]
  },
  {
   "cell_type": "markdown",
   "metadata": {},
   "source": [
    "#### Columns \"Concepto comun\" and \"Concepto propio\" are not clear what they mean -> UNCLEAR MEANING -> DROP"
   ]
  },
  {
   "cell_type": "code",
   "execution_count": 230,
   "metadata": {},
   "outputs": [
    {
     "data": {
      "text/plain": [
       "0              1221\n",
       "7,90013E+11       2\n",
       "81809083119       1\n",
       "81802330129       1\n",
       "Name: Referencia 1, dtype: int64"
      ]
     },
     "execution_count": 230,
     "metadata": {},
     "output_type": "execute_result"
    }
   ],
   "source": [
    "finance[\"Referencia 1\"].value_counts()"
   ]
  },
  {
   "cell_type": "code",
   "execution_count": 231,
   "metadata": {},
   "outputs": [
    {
     "data": {
      "text/plain": [
       "4,59986E+15         1069\n",
       "                      63\n",
       "20000005147           20\n",
       "ORIGEN: 01823298      17\n",
       "Origen: BARCGB22       7\n",
       "Name: Referencia 2, dtype: int64"
      ]
     },
     "execution_count": 231,
     "metadata": {},
     "output_type": "execute_result"
    }
   ],
   "source": [
    "finance[\"Referencia 2\"].value_counts().head()"
   ]
  },
  {
   "cell_type": "markdown",
   "metadata": {},
   "source": [
    "#### \"Referencia 1\" and \"Referencia 2\" give little to no information -> UNCLEAR MEANING -> DROP"
   ]
  },
  {
   "cell_type": "code",
   "execution_count": 232,
   "metadata": {},
   "outputs": [
    {
     "data": {
      "text/plain": [
       "                                          1136\n",
       "A66098435000                                20\n",
       "01823298-MIREIA GOMEZ GORDO                 17\n",
       "JESSIE LEE DELGADILLO NEWMAN                 8\n",
       "ROOFOODS SPAIN SL                            7\n",
       "Name: Concepto complementario 1, dtype: int64"
      ]
     },
     "execution_count": 232,
     "metadata": {},
     "output_type": "execute_result"
    }
   ],
   "source": [
    "finance[\"Concepto complementario 1\"].value_counts().head()"
   ]
  },
  {
   "cell_type": "code",
   "execution_count": 233,
   "metadata": {},
   "outputs": [
    {
     "data": {
      "text/plain": [
       "REINT.CAJERO                              57\n",
       "LIDL C PUJADES                            54\n",
       "CAFETERIA DEL MOL                         53\n",
       "AMAZON.ES COMPRA                          53\n",
       "MERCADONA RONDA S                         46\n",
       "Name: Concepto complementario 2, dtype: int64"
      ]
     },
     "execution_count": 233,
     "metadata": {},
     "output_type": "execute_result"
    }
   ],
   "source": [
    "finance[\"Concepto complementario 2\"].value_counts().head()"
   ]
  },
  {
   "cell_type": "markdown",
   "metadata": {},
   "source": [
    "#### \"Concepto complementario 1\" is from where a incoming transaction is coming and \"Concepto complementario 2\" is to where -> Useful"
   ]
  },
  {
   "cell_type": "code",
   "execution_count": 234,
   "metadata": {},
   "outputs": [
    {
     "data": {
      "text/plain": [
       "-11,84    1\n",
       "Name: Saldo (-), dtype: int64"
      ]
     },
     "execution_count": 234,
     "metadata": {},
     "output_type": "execute_result"
    }
   ],
   "source": [
    "finance['Saldo (-)'].value_counts()"
   ]
  },
  {
   "cell_type": "markdown",
   "metadata": {},
   "source": [
    "#### There is only one row with negative balance, probably can be dropped after merging"
   ]
  },
  {
   "cell_type": "code",
   "execution_count": 235,
   "metadata": {},
   "outputs": [],
   "source": [
    "to_drop = [\"Numero de cuenta\", \"Divisa\", \"Concepto comun\", \"Concepto propio\", \"Referencia 1\", \"Referencia 2\", 'Fecha valor']\n",
    "\n",
    "finance.drop(to_drop, inplace=True, axis=1)"
   ]
  },
  {
   "cell_type": "code",
   "execution_count": 236,
   "metadata": {},
   "outputs": [
    {
     "data": {
      "text/html": [
       "<div>\n",
       "<style scoped>\n",
       "    .dataframe tbody tr th:only-of-type {\n",
       "        vertical-align: middle;\n",
       "    }\n",
       "\n",
       "    .dataframe tbody tr th {\n",
       "        vertical-align: top;\n",
       "    }\n",
       "\n",
       "    .dataframe thead th {\n",
       "        text-align: right;\n",
       "    }\n",
       "</style>\n",
       "<table border=\"1\" class=\"dataframe\">\n",
       "  <thead>\n",
       "    <tr style=\"text-align: right;\">\n",
       "      <th></th>\n",
       "      <th>Oficina</th>\n",
       "      <th>Fecha operacion</th>\n",
       "      <th>Ingreso (+)</th>\n",
       "      <th>Gasto (-)</th>\n",
       "      <th>Saldo (+)</th>\n",
       "      <th>Saldo (-)</th>\n",
       "      <th>Concepto complementario 1</th>\n",
       "      <th>Concepto complementario 2</th>\n",
       "    </tr>\n",
       "  </thead>\n",
       "  <tbody>\n",
       "    <tr>\n",
       "      <th>0</th>\n",
       "      <td>9736</td>\n",
       "      <td>17/04/2019</td>\n",
       "      <td>NaN</td>\n",
       "      <td>1,73</td>\n",
       "      <td>126,98</td>\n",
       "      <td>NaN</td>\n",
       "      <td></td>\n",
       "      <td>BON AREA</td>\n",
       "    </tr>\n",
       "    <tr>\n",
       "      <th>1</th>\n",
       "      <td>9792</td>\n",
       "      <td>17/04/2019</td>\n",
       "      <td>8</td>\n",
       "      <td>NaN</td>\n",
       "      <td>128,71</td>\n",
       "      <td>NaN</td>\n",
       "      <td>00810900-ADRIA FERRER ABAD</td>\n",
       "      <td>TRANSF. A SU FAVOR</td>\n",
       "    </tr>\n",
       "    <tr>\n",
       "      <th>2</th>\n",
       "      <td>9792</td>\n",
       "      <td>17/04/2019</td>\n",
       "      <td>9</td>\n",
       "      <td>NaN</td>\n",
       "      <td>120,71</td>\n",
       "      <td>NaN</td>\n",
       "      <td>00810053-PAU SAMPIETRO FABREGAS</td>\n",
       "      <td>TRANSF. A SU FAVOR</td>\n",
       "    </tr>\n",
       "    <tr>\n",
       "      <th>3</th>\n",
       "      <td>9736</td>\n",
       "      <td>16/04/2019</td>\n",
       "      <td>NaN</td>\n",
       "      <td>25</td>\n",
       "      <td>111,71</td>\n",
       "      <td>NaN</td>\n",
       "      <td></td>\n",
       "      <td>PECUNIA CARDS EDE</td>\n",
       "    </tr>\n",
       "    <tr>\n",
       "      <th>4</th>\n",
       "      <td>569</td>\n",
       "      <td>16/04/2019</td>\n",
       "      <td>NaN</td>\n",
       "      <td>35,08</td>\n",
       "      <td>136,71</td>\n",
       "      <td>NaN</td>\n",
       "      <td>A66098435000</td>\n",
       "      <td>AIGUES DE BARC</td>\n",
       "    </tr>\n",
       "  </tbody>\n",
       "</table>\n",
       "</div>"
      ],
      "text/plain": [
       "   Oficina Fecha operacion Ingreso (+) Gasto (-) Saldo (+) Saldo (-)  \\\n",
       "0     9736      17/04/2019         NaN      1,73    126,98       NaN   \n",
       "1     9792      17/04/2019           8       NaN    128,71       NaN   \n",
       "2     9792      17/04/2019           9       NaN    120,71       NaN   \n",
       "3     9736      16/04/2019         NaN        25    111,71       NaN   \n",
       "4      569      16/04/2019         NaN     35,08    136,71       NaN   \n",
       "\n",
       "                Concepto complementario 1  \\\n",
       "0                                           \n",
       "1  00810900-ADRIA FERRER ABAD               \n",
       "2  00810053-PAU SAMPIETRO FABREGAS          \n",
       "3                                           \n",
       "4  A66098435000                             \n",
       "\n",
       "                Concepto complementario 2  \n",
       "0  BON AREA                                \n",
       "1  TRANSF. A SU FAVOR                      \n",
       "2  TRANSF. A SU FAVOR                      \n",
       "3  PECUNIA CARDS EDE                       \n",
       "4  AIGUES DE BARC                          "
      ]
     },
     "execution_count": 236,
     "metadata": {},
     "output_type": "execute_result"
    }
   ],
   "source": [
    "finance.head() # Result of dropping"
   ]
  },
  {
   "cell_type": "markdown",
   "metadata": {},
   "source": [
    "# Convert types"
   ]
  },
  {
   "cell_type": "markdown",
   "metadata": {},
   "source": [
    "#### Convert \"Fecha operacion\" and \"Fecha valor\" to datetime format"
   ]
  },
  {
   "cell_type": "code",
   "execution_count": 237,
   "metadata": {},
   "outputs": [],
   "source": [
    "finance[\"Fecha operacion\"] = pd.to_datetime(finance[\"Fecha operacion\"], format='%d/%m/%Y')"
   ]
  },
  {
   "cell_type": "markdown",
   "metadata": {},
   "source": [
    "#### Convert \"Ingreso (+)\", \"Gasto (-)\", \"Saldo (+)\" and \"Saldo (-)\" to numeric value"
   ]
  },
  {
   "cell_type": "code",
   "execution_count": 238,
   "metadata": {},
   "outputs": [],
   "source": [
    "def banking_to_numeric(df, column):\n",
    "    # Replace dots with blankspace (1.000 -> 1000)\n",
    "    df[column] = df[column].str.replace('.', '', regex=True)\n",
    "    \n",
    "    # Replace commas for dots (1,5 -> 1.5)\n",
    "    df[column] = df[column].str.replace(',', '.', regex=True)\n",
    "    \n",
    "    # Convert to numeric\n",
    "    df[column] = pd.to_numeric(df[column], errors='raise')"
   ]
  },
  {
   "cell_type": "code",
   "execution_count": 239,
   "metadata": {},
   "outputs": [],
   "source": [
    "to_num_col = [\"Ingreso (+)\", \"Gasto (-)\", \"Saldo (+)\", \"Saldo (-)\"]\n",
    "\n",
    "for col in to_num_col:\n",
    "    banking_to_numeric(finance, col)"
   ]
  },
  {
   "cell_type": "code",
   "execution_count": 240,
   "metadata": {},
   "outputs": [
    {
     "name": "stdout",
     "output_type": "stream",
     "text": [
      "<class 'pandas.core.frame.DataFrame'>\n",
      "RangeIndex: 1225 entries, 0 to 1224\n",
      "Data columns (total 8 columns):\n",
      "Oficina                      1225 non-null int64\n",
      "Fecha operacion              1225 non-null datetime64[ns]\n",
      "Ingreso (+)                  147 non-null float64\n",
      "Gasto (-)                    1078 non-null float64\n",
      "Saldo (+)                    1224 non-null float64\n",
      "Saldo (-)                    1 non-null float64\n",
      "Concepto complementario 1    1225 non-null object\n",
      "Concepto complementario 2    1225 non-null object\n",
      "dtypes: datetime64[ns](1), float64(4), int64(1), object(2)\n",
      "memory usage: 76.6+ KB\n"
     ]
    }
   ],
   "source": [
    "finance.info()"
   ]
  },
  {
   "cell_type": "markdown",
   "metadata": {},
   "source": [
    "# Deal with NaN values"
   ]
  },
  {
   "cell_type": "markdown",
   "metadata": {},
   "source": [
    "#### Knowing that NaN values are complementary attributes (ex: income vs expense) it is safe to fill all with their complementary in another column."
   ]
  },
  {
   "cell_type": "code",
   "execution_count": 241,
   "metadata": {},
   "outputs": [],
   "source": [
    "finance[\"Ingreso y Gasto\"] = finance[\"Ingreso (+)\"].fillna(finance[\"Gasto (-)\"] * -1) # It is useful to leave expenses and income separated cols"
   ]
  },
  {
   "cell_type": "code",
   "execution_count": 242,
   "metadata": {},
   "outputs": [],
   "source": [
    "finance['Saldo'] = finance[\"Saldo (+)\"].fillna(finance[\"Saldo (-)\"])"
   ]
  },
  {
   "cell_type": "code",
   "execution_count": 243,
   "metadata": {},
   "outputs": [],
   "source": [
    "finance.drop([\"Saldo (-)\", \"Saldo (+)\"], inplace=True, axis=1) # These columns have been merged into another so they can be droped"
   ]
  },
  {
   "cell_type": "markdown",
   "metadata": {},
   "source": [
    "# Rename columns to more useful ones"
   ]
  },
  {
   "cell_type": "code",
   "execution_count": 244,
   "metadata": {},
   "outputs": [],
   "source": [
    "new_names =  {'Concepto complementario 1': 'Concepto origen',\n",
    "              'Concepto complementario 2': 'Concepto destino',\n",
    "              'Saldo (+)': 'Saldo'}\n",
    "\n",
    "finance.rename(columns=new_names, inplace=True)"
   ]
  },
  {
   "cell_type": "code",
   "execution_count": 245,
   "metadata": {},
   "outputs": [
    {
     "data": {
      "text/plain": [
       "Index(['Oficina', 'Fecha operacion', 'Ingreso (+)', 'Gasto (-)',\n",
       "       'Concepto origen', 'Concepto destino', 'Ingreso y Gasto', 'Saldo'],\n",
       "      dtype='object')"
      ]
     },
     "execution_count": 245,
     "metadata": {},
     "output_type": "execute_result"
    }
   ],
   "source": [
    "finance.columns"
   ]
  },
  {
   "cell_type": "markdown",
   "metadata": {},
   "source": [
    "# Export clean data"
   ]
  },
  {
   "cell_type": "code",
   "execution_count": 246,
   "metadata": {},
   "outputs": [
    {
     "data": {
      "text/html": [
       "<div>\n",
       "<style scoped>\n",
       "    .dataframe tbody tr th:only-of-type {\n",
       "        vertical-align: middle;\n",
       "    }\n",
       "\n",
       "    .dataframe tbody tr th {\n",
       "        vertical-align: top;\n",
       "    }\n",
       "\n",
       "    .dataframe thead th {\n",
       "        text-align: right;\n",
       "    }\n",
       "</style>\n",
       "<table border=\"1\" class=\"dataframe\">\n",
       "  <thead>\n",
       "    <tr style=\"text-align: right;\">\n",
       "      <th></th>\n",
       "      <th>Oficina</th>\n",
       "      <th>Fecha operacion</th>\n",
       "      <th>Ingreso (+)</th>\n",
       "      <th>Gasto (-)</th>\n",
       "      <th>Concepto origen</th>\n",
       "      <th>Concepto destino</th>\n",
       "      <th>Ingreso y Gasto</th>\n",
       "      <th>Saldo</th>\n",
       "    </tr>\n",
       "  </thead>\n",
       "  <tbody>\n",
       "    <tr>\n",
       "      <th>0</th>\n",
       "      <td>9736</td>\n",
       "      <td>2019-04-17</td>\n",
       "      <td>NaN</td>\n",
       "      <td>1.73</td>\n",
       "      <td></td>\n",
       "      <td>BON AREA</td>\n",
       "      <td>-1.73</td>\n",
       "      <td>126.98</td>\n",
       "    </tr>\n",
       "    <tr>\n",
       "      <th>1</th>\n",
       "      <td>9792</td>\n",
       "      <td>2019-04-17</td>\n",
       "      <td>8.0</td>\n",
       "      <td>NaN</td>\n",
       "      <td>00810900-ADRIA FERRER ABAD</td>\n",
       "      <td>TRANSF. A SU FAVOR</td>\n",
       "      <td>8.00</td>\n",
       "      <td>128.71</td>\n",
       "    </tr>\n",
       "    <tr>\n",
       "      <th>2</th>\n",
       "      <td>9792</td>\n",
       "      <td>2019-04-17</td>\n",
       "      <td>9.0</td>\n",
       "      <td>NaN</td>\n",
       "      <td>00810053-PAU SAMPIETRO FABREGAS</td>\n",
       "      <td>TRANSF. A SU FAVOR</td>\n",
       "      <td>9.00</td>\n",
       "      <td>120.71</td>\n",
       "    </tr>\n",
       "    <tr>\n",
       "      <th>3</th>\n",
       "      <td>9736</td>\n",
       "      <td>2019-04-16</td>\n",
       "      <td>NaN</td>\n",
       "      <td>25.00</td>\n",
       "      <td></td>\n",
       "      <td>PECUNIA CARDS EDE</td>\n",
       "      <td>-25.00</td>\n",
       "      <td>111.71</td>\n",
       "    </tr>\n",
       "    <tr>\n",
       "      <th>4</th>\n",
       "      <td>569</td>\n",
       "      <td>2019-04-16</td>\n",
       "      <td>NaN</td>\n",
       "      <td>35.08</td>\n",
       "      <td>A66098435000</td>\n",
       "      <td>AIGUES DE BARC</td>\n",
       "      <td>-35.08</td>\n",
       "      <td>136.71</td>\n",
       "    </tr>\n",
       "  </tbody>\n",
       "</table>\n",
       "</div>"
      ],
      "text/plain": [
       "   Oficina Fecha operacion  Ingreso (+)  Gasto (-)  \\\n",
       "0     9736      2019-04-17          NaN       1.73   \n",
       "1     9792      2019-04-17          8.0        NaN   \n",
       "2     9792      2019-04-17          9.0        NaN   \n",
       "3     9736      2019-04-16          NaN      25.00   \n",
       "4      569      2019-04-16          NaN      35.08   \n",
       "\n",
       "                          Concepto origen  \\\n",
       "0                                           \n",
       "1  00810900-ADRIA FERRER ABAD               \n",
       "2  00810053-PAU SAMPIETRO FABREGAS          \n",
       "3                                           \n",
       "4  A66098435000                             \n",
       "\n",
       "                         Concepto destino  Ingreso y Gasto   Saldo  \n",
       "0  BON AREA                                          -1.73  126.98  \n",
       "1  TRANSF. A SU FAVOR                                 8.00  128.71  \n",
       "2  TRANSF. A SU FAVOR                                 9.00  120.71  \n",
       "3  PECUNIA CARDS EDE                                -25.00  111.71  \n",
       "4  AIGUES DE BARC                                   -35.08  136.71  "
      ]
     },
     "execution_count": 246,
     "metadata": {},
     "output_type": "execute_result"
    }
   ],
   "source": [
    "finance.head()"
   ]
  },
  {
   "cell_type": "code",
   "execution_count": 247,
   "metadata": {},
   "outputs": [],
   "source": [
    "finance.to_csv('finance_clean.csv', index=False)"
   ]
  }
 ],
 "metadata": {
  "kernelspec": {
   "display_name": "Python 3",
   "language": "python",
   "name": "python3"
  },
  "language_info": {
   "codemirror_mode": {
    "name": "ipython",
    "version": 3
   },
   "file_extension": ".py",
   "mimetype": "text/x-python",
   "name": "python",
   "nbconvert_exporter": "python",
   "pygments_lexer": "ipython3",
   "version": "3.7.2"
  }
 },
 "nbformat": 4,
 "nbformat_minor": 2
}
