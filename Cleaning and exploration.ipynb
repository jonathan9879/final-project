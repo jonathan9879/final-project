{
 "cells": [
  {
   "cell_type": "markdown",
   "metadata": {},
   "source": [
    "# Personal finance analysis"
   ]
  },
  {
   "cell_type": "code",
   "execution_count": 196,
   "metadata": {},
   "outputs": [],
   "source": [
    "import pandas as pd\n",
    "import matplotlib.pyplot as plt\n",
    "import seaborn as sns\n",
    "import plotly_express as px\n",
    "from scipy import stats\n",
    "\n",
    "%matplotlib inline"
   ]
  },
  {
   "cell_type": "code",
   "execution_count": 122,
   "metadata": {},
   "outputs": [],
   "source": [
    "col_names = [\"date\", \"concept\", \"category\", \"amount\", \"type\", \"account\"]\n",
    "\n",
    "finance = pd.read_csv(\"finance_test.csv\", header = None, index_col=False, names = col_names)"
   ]
  },
  {
   "cell_type": "code",
   "execution_count": 194,
   "metadata": {},
   "outputs": [
    {
     "data": {
      "text/html": [
       "<div>\n",
       "<style scoped>\n",
       "    .dataframe tbody tr th:only-of-type {\n",
       "        vertical-align: middle;\n",
       "    }\n",
       "\n",
       "    .dataframe tbody tr th {\n",
       "        vertical-align: top;\n",
       "    }\n",
       "\n",
       "    .dataframe thead th {\n",
       "        text-align: right;\n",
       "    }\n",
       "</style>\n",
       "<table border=\"1\" class=\"dataframe\">\n",
       "  <thead>\n",
       "    <tr style=\"text-align: right;\">\n",
       "      <th></th>\n",
       "      <th>date</th>\n",
       "      <th>concept</th>\n",
       "      <th>category</th>\n",
       "      <th>amount</th>\n",
       "      <th>type</th>\n",
       "      <th>account</th>\n",
       "    </tr>\n",
       "  </thead>\n",
       "  <tbody>\n",
       "    <tr>\n",
       "      <th>0</th>\n",
       "      <td>2019-04-17</td>\n",
       "      <td>BON AREA</td>\n",
       "      <td>Supers e hipers</td>\n",
       "      <td>-1.73</td>\n",
       "      <td>Gasto (G)</td>\n",
       "      <td>Visa Electron ...2036</td>\n",
       "    </tr>\n",
       "    <tr>\n",
       "      <th>1</th>\n",
       "      <td>2019-04-17</td>\n",
       "      <td>TRANSF. A SU FAVOR</td>\n",
       "      <td>Transferencias recibidas</td>\n",
       "      <td>8.00</td>\n",
       "      <td>Ingreso (I)</td>\n",
       "      <td>Cuenta ...8503</td>\n",
       "    </tr>\n",
       "    <tr>\n",
       "      <th>2</th>\n",
       "      <td>2019-04-17</td>\n",
       "      <td>TRANSF. A SU FAVOR</td>\n",
       "      <td>Transferencias recibidas</td>\n",
       "      <td>9.00</td>\n",
       "      <td>Ingreso (I)</td>\n",
       "      <td>Cuenta ...8503</td>\n",
       "    </tr>\n",
       "    <tr>\n",
       "      <th>3</th>\n",
       "      <td>2019-04-16</td>\n",
       "      <td>PECUNIA CARDS EDE, S.L.U.</td>\n",
       "      <td>Teléfono / Internet</td>\n",
       "      <td>-25.00</td>\n",
       "      <td>Gasto (G)</td>\n",
       "      <td>Visa Electron ...2036</td>\n",
       "    </tr>\n",
       "    <tr>\n",
       "      <th>4</th>\n",
       "      <td>2019-04-15</td>\n",
       "      <td>Sociedad General de Aguas de Barcelona</td>\n",
       "      <td>Hogar</td>\n",
       "      <td>-35.08</td>\n",
       "      <td>Gasto (G)</td>\n",
       "      <td>Cuenta ...8503</td>\n",
       "    </tr>\n",
       "  </tbody>\n",
       "</table>\n",
       "</div>"
      ],
      "text/plain": [
       "        date                                 concept  \\\n",
       "0 2019-04-17                                BON AREA   \n",
       "1 2019-04-17                      TRANSF. A SU FAVOR   \n",
       "2 2019-04-17                      TRANSF. A SU FAVOR   \n",
       "3 2019-04-16               PECUNIA CARDS EDE, S.L.U.   \n",
       "4 2019-04-15  Sociedad General de Aguas de Barcelona   \n",
       "\n",
       "                   category  amount         type                account  \n",
       "0           Supers e hipers   -1.73    Gasto (G)  Visa Electron ...2036  \n",
       "1  Transferencias recibidas    8.00  Ingreso (I)         Cuenta ...8503  \n",
       "2  Transferencias recibidas    9.00  Ingreso (I)         Cuenta ...8503  \n",
       "3       Teléfono / Internet  -25.00    Gasto (G)  Visa Electron ...2036  \n",
       "4                     Hogar  -35.08    Gasto (G)         Cuenta ...8503  "
      ]
     },
     "execution_count": 194,
     "metadata": {},
     "output_type": "execute_result"
    }
   ],
   "source": [
    "finance.head()"
   ]
  },
  {
   "cell_type": "code",
   "execution_count": 193,
   "metadata": {},
   "outputs": [
    {
     "data": {
      "text/html": [
       "<div>\n",
       "<style scoped>\n",
       "    .dataframe tbody tr th:only-of-type {\n",
       "        vertical-align: middle;\n",
       "    }\n",
       "\n",
       "    .dataframe tbody tr th {\n",
       "        vertical-align: top;\n",
       "    }\n",
       "\n",
       "    .dataframe thead th {\n",
       "        text-align: right;\n",
       "    }\n",
       "</style>\n",
       "<table border=\"1\" class=\"dataframe\">\n",
       "  <thead>\n",
       "    <tr style=\"text-align: right;\">\n",
       "      <th></th>\n",
       "      <th>date</th>\n",
       "      <th>concept</th>\n",
       "      <th>category</th>\n",
       "      <th>amount</th>\n",
       "      <th>type</th>\n",
       "      <th>account</th>\n",
       "    </tr>\n",
       "  </thead>\n",
       "  <tbody>\n",
       "    <tr>\n",
       "      <th>715</th>\n",
       "      <td>2017-07-27</td>\n",
       "      <td>TRIOMF DONNER</td>\n",
       "      <td>Restaurantes</td>\n",
       "      <td>-7.50</td>\n",
       "      <td>Gasto (G)</td>\n",
       "      <td>Visa Electron ...2036</td>\n",
       "    </tr>\n",
       "    <tr>\n",
       "      <th>716</th>\n",
       "      <td>2017-07-27</td>\n",
       "      <td>CAJ.LA CAIXA OF.3002</td>\n",
       "      <td>Dinero del cajero</td>\n",
       "      <td>-20.00</td>\n",
       "      <td>Gasto (G)</td>\n",
       "      <td>Visa Electron ...2036</td>\n",
       "    </tr>\n",
       "    <tr>\n",
       "      <th>717</th>\n",
       "      <td>2017-07-26</td>\n",
       "      <td>MOSQUITO TAPAS</td>\n",
       "      <td>Restaurantes</td>\n",
       "      <td>-15.90</td>\n",
       "      <td>Gasto (G)</td>\n",
       "      <td>Visa Electron ...2036</td>\n",
       "    </tr>\n",
       "    <tr>\n",
       "      <th>718</th>\n",
       "      <td>2017-07-26</td>\n",
       "      <td>COFEE LAB</td>\n",
       "      <td>Supers e hipers</td>\n",
       "      <td>-10.00</td>\n",
       "      <td>Gasto (G)</td>\n",
       "      <td>Visa Electron ...2036</td>\n",
       "    </tr>\n",
       "    <tr>\n",
       "      <th>719</th>\n",
       "      <td>2017-07-26</td>\n",
       "      <td>AMAZON.ES COMPRA</td>\n",
       "      <td>Varios</td>\n",
       "      <td>13.99</td>\n",
       "      <td>Gasto (G)</td>\n",
       "      <td>Visa Electron ...2036</td>\n",
       "    </tr>\n",
       "  </tbody>\n",
       "</table>\n",
       "</div>"
      ],
      "text/plain": [
       "          date               concept           category  amount       type  \\\n",
       "715 2017-07-27         TRIOMF DONNER       Restaurantes   -7.50  Gasto (G)   \n",
       "716 2017-07-27  CAJ.LA CAIXA OF.3002  Dinero del cajero  -20.00  Gasto (G)   \n",
       "717 2017-07-26        MOSQUITO TAPAS       Restaurantes  -15.90  Gasto (G)   \n",
       "718 2017-07-26             COFEE LAB    Supers e hipers  -10.00  Gasto (G)   \n",
       "719 2017-07-26      AMAZON.ES COMPRA             Varios   13.99  Gasto (G)   \n",
       "\n",
       "                   account  \n",
       "715  Visa Electron ...2036  \n",
       "716  Visa Electron ...2036  \n",
       "717  Visa Electron ...2036  \n",
       "718  Visa Electron ...2036  \n",
       "719  Visa Electron ...2036  "
      ]
     },
     "execution_count": 193,
     "metadata": {},
     "output_type": "execute_result"
    }
   ],
   "source": [
    "finance.tail()"
   ]
  },
  {
   "cell_type": "markdown",
   "metadata": {},
   "source": [
    "### Check size of data, types and null values"
   ]
  },
  {
   "cell_type": "code",
   "execution_count": 124,
   "metadata": {},
   "outputs": [
    {
     "name": "stdout",
     "output_type": "stream",
     "text": [
      "<class 'pandas.core.frame.DataFrame'>\n",
      "RangeIndex: 720 entries, 0 to 719\n",
      "Data columns (total 6 columns):\n",
      "date        720 non-null object\n",
      "concept     720 non-null object\n",
      "category    720 non-null object\n",
      "amount      720 non-null object\n",
      "type        720 non-null object\n",
      "account     720 non-null object\n",
      "dtypes: object(6)\n",
      "memory usage: 33.8+ KB\n"
     ]
    }
   ],
   "source": [
    "finance.info()"
   ]
  },
  {
   "cell_type": "markdown",
   "metadata": {},
   "source": [
    "### Convert \"date\" to datetime format"
   ]
  },
  {
   "cell_type": "code",
   "execution_count": 181,
   "metadata": {},
   "outputs": [],
   "source": [
    "finance['date'] = pd.to_datetime(finance.date, format='%d/%m/%Y')"
   ]
  },
  {
   "cell_type": "markdown",
   "metadata": {},
   "source": [
    "### Convert \"amount\" to numeric value"
   ]
  },
  {
   "cell_type": "code",
   "execution_count": 125,
   "metadata": {},
   "outputs": [],
   "source": [
    "# Replace dots for blankspace (1.000 -> 1000)\n",
    "finance['amount'] = finance.amount.str.replace('.', '', regex=True)"
   ]
  },
  {
   "cell_type": "code",
   "execution_count": null,
   "metadata": {},
   "outputs": [],
   "source": [
    "# Replace commas for dots (1,5 -> 1.5)\n",
    "finance['amount'] = finance.amount.str.replace(',', '.', regex=True)"
   ]
  },
  {
   "cell_type": "code",
   "execution_count": 127,
   "metadata": {},
   "outputs": [],
   "source": [
    "# Convert to numeric\n",
    "finance['amount'] = pd.to_numeric(finance.amount, errors='raise')"
   ]
  },
  {
   "cell_type": "code",
   "execution_count": 182,
   "metadata": {},
   "outputs": [
    {
     "name": "stdout",
     "output_type": "stream",
     "text": [
      "<class 'pandas.core.frame.DataFrame'>\n",
      "RangeIndex: 720 entries, 0 to 719\n",
      "Data columns (total 6 columns):\n",
      "date        720 non-null datetime64[ns]\n",
      "concept     720 non-null object\n",
      "category    720 non-null object\n",
      "amount      720 non-null float64\n",
      "type        720 non-null object\n",
      "account     720 non-null object\n",
      "dtypes: datetime64[ns](1), float64(1), object(4)\n",
      "memory usage: 33.8+ KB\n"
     ]
    }
   ],
   "source": [
    "finance.info()"
   ]
  },
  {
   "cell_type": "markdown",
   "metadata": {},
   "source": [
    "### Export csv after fixing types to upload to the cloud"
   ]
  },
  {
   "cell_type": "code",
   "execution_count": 185,
   "metadata": {},
   "outputs": [],
   "source": [
    "finance.to_csv('out.csv')"
   ]
  },
  {
   "cell_type": "markdown",
   "metadata": {},
   "source": [
    "### Statistical exploration of each category "
   ]
  },
  {
   "cell_type": "code",
   "execution_count": 171,
   "metadata": {},
   "outputs": [
    {
     "data": {
      "text/html": [
       "<div>\n",
       "<style scoped>\n",
       "    .dataframe tbody tr th:only-of-type {\n",
       "        vertical-align: middle;\n",
       "    }\n",
       "\n",
       "    .dataframe tbody tr th {\n",
       "        vertical-align: top;\n",
       "    }\n",
       "\n",
       "    .dataframe thead th {\n",
       "        text-align: right;\n",
       "    }\n",
       "</style>\n",
       "<table border=\"1\" class=\"dataframe\">\n",
       "  <thead>\n",
       "    <tr style=\"text-align: right;\">\n",
       "      <th></th>\n",
       "      <th>count</th>\n",
       "      <th>mean</th>\n",
       "      <th>std</th>\n",
       "      <th>min</th>\n",
       "      <th>25%</th>\n",
       "      <th>50%</th>\n",
       "      <th>75%</th>\n",
       "      <th>max</th>\n",
       "    </tr>\n",
       "    <tr>\n",
       "      <th>category</th>\n",
       "      <th></th>\n",
       "      <th></th>\n",
       "      <th></th>\n",
       "      <th></th>\n",
       "      <th></th>\n",
       "      <th></th>\n",
       "      <th></th>\n",
       "      <th></th>\n",
       "    </tr>\n",
       "  </thead>\n",
       "  <tbody>\n",
       "    <tr>\n",
       "      <th>Alquiler de vehículos</th>\n",
       "      <td>1.0</td>\n",
       "      <td>-0.400000</td>\n",
       "      <td>NaN</td>\n",
       "      <td>-0.40</td>\n",
       "      <td>-0.4000</td>\n",
       "      <td>-0.400</td>\n",
       "      <td>-0.4000</td>\n",
       "      <td>-0.40</td>\n",
       "    </tr>\n",
       "    <tr>\n",
       "      <th>Bienestar y belleza</th>\n",
       "      <td>5.0</td>\n",
       "      <td>-13.780000</td>\n",
       "      <td>7.502799</td>\n",
       "      <td>-25.00</td>\n",
       "      <td>-14.0000</td>\n",
       "      <td>-14.000</td>\n",
       "      <td>-11.9000</td>\n",
       "      <td>-4.00</td>\n",
       "    </tr>\n",
       "    <tr>\n",
       "      <th>Cuotas y suscripciones</th>\n",
       "      <td>3.0</td>\n",
       "      <td>-11.916667</td>\n",
       "      <td>6.957071</td>\n",
       "      <td>-19.95</td>\n",
       "      <td>-13.9250</td>\n",
       "      <td>-7.900</td>\n",
       "      <td>-7.9000</td>\n",
       "      <td>-7.90</td>\n",
       "    </tr>\n",
       "    <tr>\n",
       "      <th>Dinero del cajero</th>\n",
       "      <td>17.0</td>\n",
       "      <td>-63.529412</td>\n",
       "      <td>164.921996</td>\n",
       "      <td>-700.00</td>\n",
       "      <td>-30.0000</td>\n",
       "      <td>-20.000</td>\n",
       "      <td>-10.0000</td>\n",
       "      <td>-10.00</td>\n",
       "    </tr>\n",
       "    <tr>\n",
       "      <th>Educación</th>\n",
       "      <td>3.0</td>\n",
       "      <td>-211.166667</td>\n",
       "      <td>205.981998</td>\n",
       "      <td>-449.00</td>\n",
       "      <td>-271.7500</td>\n",
       "      <td>-94.500</td>\n",
       "      <td>-92.2500</td>\n",
       "      <td>-90.00</td>\n",
       "    </tr>\n",
       "    <tr>\n",
       "      <th>Electrónica y electrodomésticos</th>\n",
       "      <td>10.0</td>\n",
       "      <td>-13.863000</td>\n",
       "      <td>257.795803</td>\n",
       "      <td>-546.13</td>\n",
       "      <td>-26.3325</td>\n",
       "      <td>-16.325</td>\n",
       "      <td>-6.4800</td>\n",
       "      <td>546.13</td>\n",
       "    </tr>\n",
       "    <tr>\n",
       "      <th>Hogar</th>\n",
       "      <td>18.0</td>\n",
       "      <td>-32.113333</td>\n",
       "      <td>28.086797</td>\n",
       "      <td>-135.47</td>\n",
       "      <td>-33.6775</td>\n",
       "      <td>-31.730</td>\n",
       "      <td>-21.4800</td>\n",
       "      <td>-3.04</td>\n",
       "    </tr>\n",
       "    <tr>\n",
       "      <th>Hoteles</th>\n",
       "      <td>3.0</td>\n",
       "      <td>-44.796667</td>\n",
       "      <td>152.030167</td>\n",
       "      <td>-134.39</td>\n",
       "      <td>-132.5650</td>\n",
       "      <td>-130.740</td>\n",
       "      <td>0.0000</td>\n",
       "      <td>130.74</td>\n",
       "    </tr>\n",
       "    <tr>\n",
       "      <th>Impuestos y multas</th>\n",
       "      <td>6.0</td>\n",
       "      <td>-319.191667</td>\n",
       "      <td>624.136911</td>\n",
       "      <td>-1587.26</td>\n",
       "      <td>-148.7775</td>\n",
       "      <td>-69.680</td>\n",
       "      <td>-17.5075</td>\n",
       "      <td>-13.27</td>\n",
       "    </tr>\n",
       "    <tr>\n",
       "      <th>Ingresos de efectivo/cheques</th>\n",
       "      <td>28.0</td>\n",
       "      <td>240.741071</td>\n",
       "      <td>307.133623</td>\n",
       "      <td>5.00</td>\n",
       "      <td>63.7500</td>\n",
       "      <td>175.000</td>\n",
       "      <td>285.0000</td>\n",
       "      <td>1605.00</td>\n",
       "    </tr>\n",
       "    <tr>\n",
       "      <th>Libros, prensa, música y películas</th>\n",
       "      <td>11.0</td>\n",
       "      <td>-41.951818</td>\n",
       "      <td>105.074593</td>\n",
       "      <td>-354.49</td>\n",
       "      <td>-26.5000</td>\n",
       "      <td>-6.300</td>\n",
       "      <td>-3.0000</td>\n",
       "      <td>20.26</td>\n",
       "    </tr>\n",
       "    <tr>\n",
       "      <th>Nómina / pensión / desempleo</th>\n",
       "      <td>2.0</td>\n",
       "      <td>225.010000</td>\n",
       "      <td>224.322555</td>\n",
       "      <td>66.39</td>\n",
       "      <td>145.7000</td>\n",
       "      <td>225.010</td>\n",
       "      <td>304.3200</td>\n",
       "      <td>383.63</td>\n",
       "    </tr>\n",
       "    <tr>\n",
       "      <th>Ocio</th>\n",
       "      <td>16.0</td>\n",
       "      <td>-14.810625</td>\n",
       "      <td>12.911380</td>\n",
       "      <td>-57.00</td>\n",
       "      <td>-17.2100</td>\n",
       "      <td>-11.700</td>\n",
       "      <td>-9.0750</td>\n",
       "      <td>-2.99</td>\n",
       "    </tr>\n",
       "    <tr>\n",
       "      <th>Restaurantes</th>\n",
       "      <td>234.0</td>\n",
       "      <td>-5.485171</td>\n",
       "      <td>5.445201</td>\n",
       "      <td>-35.00</td>\n",
       "      <td>-6.5000</td>\n",
       "      <td>-3.500</td>\n",
       "      <td>-2.0000</td>\n",
       "      <td>-0.40</td>\n",
       "    </tr>\n",
       "    <tr>\n",
       "      <th>Ropa y calzado</th>\n",
       "      <td>14.0</td>\n",
       "      <td>-22.511429</td>\n",
       "      <td>13.177439</td>\n",
       "      <td>-40.96</td>\n",
       "      <td>-31.6100</td>\n",
       "      <td>-23.115</td>\n",
       "      <td>-12.6825</td>\n",
       "      <td>-1.98</td>\n",
       "    </tr>\n",
       "    <tr>\n",
       "      <th>Salud</th>\n",
       "      <td>5.0</td>\n",
       "      <td>-5.280000</td>\n",
       "      <td>0.000000</td>\n",
       "      <td>-5.28</td>\n",
       "      <td>-5.2800</td>\n",
       "      <td>-5.280</td>\n",
       "      <td>-5.2800</td>\n",
       "      <td>-5.28</td>\n",
       "    </tr>\n",
       "    <tr>\n",
       "      <th>Seguros y mutuas</th>\n",
       "      <td>4.0</td>\n",
       "      <td>-50.920000</td>\n",
       "      <td>0.000000</td>\n",
       "      <td>-50.92</td>\n",
       "      <td>-50.9200</td>\n",
       "      <td>-50.920</td>\n",
       "      <td>-50.9200</td>\n",
       "      <td>-50.92</td>\n",
       "    </tr>\n",
       "    <tr>\n",
       "      <th>Servicios varios</th>\n",
       "      <td>6.0</td>\n",
       "      <td>-15.208333</td>\n",
       "      <td>16.756320</td>\n",
       "      <td>-38.96</td>\n",
       "      <td>-25.4425</td>\n",
       "      <td>-13.275</td>\n",
       "      <td>-1.6250</td>\n",
       "      <td>1.50</td>\n",
       "    </tr>\n",
       "    <tr>\n",
       "      <th>Supers e hipers</th>\n",
       "      <td>179.0</td>\n",
       "      <td>-5.958771</td>\n",
       "      <td>7.052923</td>\n",
       "      <td>-65.48</td>\n",
       "      <td>-8.0000</td>\n",
       "      <td>-4.000</td>\n",
       "      <td>-1.6000</td>\n",
       "      <td>5.99</td>\n",
       "    </tr>\n",
       "    <tr>\n",
       "      <th>Teléfono / Internet</th>\n",
       "      <td>11.0</td>\n",
       "      <td>-70.775455</td>\n",
       "      <td>120.572204</td>\n",
       "      <td>-392.83</td>\n",
       "      <td>-40.0000</td>\n",
       "      <td>-25.000</td>\n",
       "      <td>-13.8500</td>\n",
       "      <td>-1.20</td>\n",
       "    </tr>\n",
       "    <tr>\n",
       "      <th>Transferencias realizadas</th>\n",
       "      <td>11.0</td>\n",
       "      <td>-24.876364</td>\n",
       "      <td>26.917362</td>\n",
       "      <td>-66.52</td>\n",
       "      <td>-52.5500</td>\n",
       "      <td>-10.000</td>\n",
       "      <td>-4.4650</td>\n",
       "      <td>-0.81</td>\n",
       "    </tr>\n",
       "    <tr>\n",
       "      <th>Transferencias recibidas</th>\n",
       "      <td>39.0</td>\n",
       "      <td>90.151282</td>\n",
       "      <td>190.925375</td>\n",
       "      <td>0.85</td>\n",
       "      <td>8.6700</td>\n",
       "      <td>20.000</td>\n",
       "      <td>71.3000</td>\n",
       "      <td>993.33</td>\n",
       "    </tr>\n",
       "    <tr>\n",
       "      <th>Transporte</th>\n",
       "      <td>16.0</td>\n",
       "      <td>-9.882500</td>\n",
       "      <td>11.615517</td>\n",
       "      <td>-50.00</td>\n",
       "      <td>-10.2000</td>\n",
       "      <td>-6.890</td>\n",
       "      <td>-2.5500</td>\n",
       "      <td>-1.40</td>\n",
       "    </tr>\n",
       "    <tr>\n",
       "      <th>Varios</th>\n",
       "      <td>76.0</td>\n",
       "      <td>-14.828421</td>\n",
       "      <td>54.780744</td>\n",
       "      <td>-315.97</td>\n",
       "      <td>-26.2400</td>\n",
       "      <td>-9.990</td>\n",
       "      <td>-2.5075</td>\n",
       "      <td>312.98</td>\n",
       "    </tr>\n",
       "    <tr>\n",
       "      <th>Viaje</th>\n",
       "      <td>2.0</td>\n",
       "      <td>-58.060000</td>\n",
       "      <td>44.774001</td>\n",
       "      <td>-89.72</td>\n",
       "      <td>-73.8900</td>\n",
       "      <td>-58.060</td>\n",
       "      <td>-42.2300</td>\n",
       "      <td>-26.40</td>\n",
       "    </tr>\n",
       "  </tbody>\n",
       "</table>\n",
       "</div>"
      ],
      "text/plain": [
       "                                    count        mean         std      min  \\\n",
       "category                                                                     \n",
       "Alquiler de vehículos                 1.0   -0.400000         NaN    -0.40   \n",
       "Bienestar y belleza                   5.0  -13.780000    7.502799   -25.00   \n",
       "Cuotas y suscripciones                3.0  -11.916667    6.957071   -19.95   \n",
       "Dinero del cajero                    17.0  -63.529412  164.921996  -700.00   \n",
       "Educación                             3.0 -211.166667  205.981998  -449.00   \n",
       "Electrónica y electrodomésticos      10.0  -13.863000  257.795803  -546.13   \n",
       "Hogar                                18.0  -32.113333   28.086797  -135.47   \n",
       "Hoteles                               3.0  -44.796667  152.030167  -134.39   \n",
       "Impuestos y multas                    6.0 -319.191667  624.136911 -1587.26   \n",
       "Ingresos de efectivo/cheques         28.0  240.741071  307.133623     5.00   \n",
       "Libros, prensa, música y películas   11.0  -41.951818  105.074593  -354.49   \n",
       "Nómina / pensión / desempleo          2.0  225.010000  224.322555    66.39   \n",
       "Ocio                                 16.0  -14.810625   12.911380   -57.00   \n",
       "Restaurantes                        234.0   -5.485171    5.445201   -35.00   \n",
       "Ropa y calzado                       14.0  -22.511429   13.177439   -40.96   \n",
       "Salud                                 5.0   -5.280000    0.000000    -5.28   \n",
       "Seguros y mutuas                      4.0  -50.920000    0.000000   -50.92   \n",
       "Servicios varios                      6.0  -15.208333   16.756320   -38.96   \n",
       "Supers e hipers                     179.0   -5.958771    7.052923   -65.48   \n",
       "Teléfono / Internet                  11.0  -70.775455  120.572204  -392.83   \n",
       "Transferencias realizadas            11.0  -24.876364   26.917362   -66.52   \n",
       "Transferencias recibidas             39.0   90.151282  190.925375     0.85   \n",
       "Transporte                           16.0   -9.882500   11.615517   -50.00   \n",
       "Varios                               76.0  -14.828421   54.780744  -315.97   \n",
       "Viaje                                 2.0  -58.060000   44.774001   -89.72   \n",
       "\n",
       "                                         25%      50%       75%      max  \n",
       "category                                                                  \n",
       "Alquiler de vehículos                -0.4000   -0.400   -0.4000    -0.40  \n",
       "Bienestar y belleza                 -14.0000  -14.000  -11.9000    -4.00  \n",
       "Cuotas y suscripciones              -13.9250   -7.900   -7.9000    -7.90  \n",
       "Dinero del cajero                   -30.0000  -20.000  -10.0000   -10.00  \n",
       "Educación                          -271.7500  -94.500  -92.2500   -90.00  \n",
       "Electrónica y electrodomésticos     -26.3325  -16.325   -6.4800   546.13  \n",
       "Hogar                               -33.6775  -31.730  -21.4800    -3.04  \n",
       "Hoteles                            -132.5650 -130.740    0.0000   130.74  \n",
       "Impuestos y multas                 -148.7775  -69.680  -17.5075   -13.27  \n",
       "Ingresos de efectivo/cheques         63.7500  175.000  285.0000  1605.00  \n",
       "Libros, prensa, música y películas  -26.5000   -6.300   -3.0000    20.26  \n",
       "Nómina / pensión / desempleo        145.7000  225.010  304.3200   383.63  \n",
       "Ocio                                -17.2100  -11.700   -9.0750    -2.99  \n",
       "Restaurantes                         -6.5000   -3.500   -2.0000    -0.40  \n",
       "Ropa y calzado                      -31.6100  -23.115  -12.6825    -1.98  \n",
       "Salud                                -5.2800   -5.280   -5.2800    -5.28  \n",
       "Seguros y mutuas                    -50.9200  -50.920  -50.9200   -50.92  \n",
       "Servicios varios                    -25.4425  -13.275   -1.6250     1.50  \n",
       "Supers e hipers                      -8.0000   -4.000   -1.6000     5.99  \n",
       "Teléfono / Internet                 -40.0000  -25.000  -13.8500    -1.20  \n",
       "Transferencias realizadas           -52.5500  -10.000   -4.4650    -0.81  \n",
       "Transferencias recibidas              8.6700   20.000   71.3000   993.33  \n",
       "Transporte                          -10.2000   -6.890   -2.5500    -1.40  \n",
       "Varios                              -26.2400   -9.990   -2.5075   312.98  \n",
       "Viaje                               -73.8900  -58.060  -42.2300   -26.40  "
      ]
     },
     "execution_count": 171,
     "metadata": {},
     "output_type": "execute_result"
    }
   ],
   "source": [
    "finance.groupby(['category'])['amount'].describe()"
   ]
  },
  {
   "cell_type": "markdown",
   "metadata": {},
   "source": [
    "### Check for data correctness"
   ]
  },
  {
   "cell_type": "code",
   "execution_count": 132,
   "metadata": {},
   "outputs": [
    {
     "data": {
      "text/html": [
       "<div>\n",
       "<style scoped>\n",
       "    .dataframe tbody tr th:only-of-type {\n",
       "        vertical-align: middle;\n",
       "    }\n",
       "\n",
       "    .dataframe tbody tr th {\n",
       "        vertical-align: top;\n",
       "    }\n",
       "\n",
       "    .dataframe thead th {\n",
       "        text-align: right;\n",
       "    }\n",
       "</style>\n",
       "<table border=\"1\" class=\"dataframe\">\n",
       "  <thead>\n",
       "    <tr style=\"text-align: right;\">\n",
       "      <th></th>\n",
       "      <th>date</th>\n",
       "      <th>concept</th>\n",
       "      <th>category</th>\n",
       "      <th>amount</th>\n",
       "      <th>type</th>\n",
       "      <th>account</th>\n",
       "    </tr>\n",
       "  </thead>\n",
       "  <tbody>\n",
       "    <tr>\n",
       "      <th>54</th>\n",
       "      <td>07/02/2019</td>\n",
       "      <td>AMZ*Al Wholesale Store</td>\n",
       "      <td>Varios</td>\n",
       "      <td>312.98</td>\n",
       "      <td>Gasto (G)</td>\n",
       "      <td>Visa Electron ...2036</td>\n",
       "    </tr>\n",
       "    <tr>\n",
       "      <th>106</th>\n",
       "      <td>20/12/2018</td>\n",
       "      <td>COND.CUOTA TARJETA</td>\n",
       "      <td>Varios</td>\n",
       "      <td>28.00</td>\n",
       "      <td>Gasto (G)</td>\n",
       "      <td>Cuenta ...8503</td>\n",
       "    </tr>\n",
       "    <tr>\n",
       "      <th>129</th>\n",
       "      <td>10/12/2018</td>\n",
       "      <td>PP*5427CODE</td>\n",
       "      <td>Servicios varios</td>\n",
       "      <td>1.50</td>\n",
       "      <td>Gasto (G)</td>\n",
       "      <td>Visa Electron ...2036</td>\n",
       "    </tr>\n",
       "    <tr>\n",
       "      <th>398</th>\n",
       "      <td>09/03/2018</td>\n",
       "      <td>AMAZON MKTPLACE PMTS</td>\n",
       "      <td>Varios</td>\n",
       "      <td>2.51</td>\n",
       "      <td>Gasto (G)</td>\n",
       "      <td>Visa Electron ...2036</td>\n",
       "    </tr>\n",
       "    <tr>\n",
       "      <th>424</th>\n",
       "      <td>22/02/2018</td>\n",
       "      <td>LIDL C PUJADES</td>\n",
       "      <td>Supers e hipers</td>\n",
       "      <td>5.99</td>\n",
       "      <td>Gasto (G)</td>\n",
       "      <td>Visa Electron ...2036</td>\n",
       "    </tr>\n",
       "    <tr>\n",
       "      <th>508</th>\n",
       "      <td>20/12/2017</td>\n",
       "      <td>COND.CUOTA TARJETA</td>\n",
       "      <td>Varios</td>\n",
       "      <td>28.00</td>\n",
       "      <td>Gasto (G)</td>\n",
       "      <td>Cuenta ...8503</td>\n",
       "    </tr>\n",
       "    <tr>\n",
       "      <th>551</th>\n",
       "      <td>02/12/2017</td>\n",
       "      <td>PAYPAL *GWOTD</td>\n",
       "      <td>Libros, prensa, música y películas</td>\n",
       "      <td>20.26</td>\n",
       "      <td>Gasto (G)</td>\n",
       "      <td>Visa Electron ...2036</td>\n",
       "    </tr>\n",
       "    <tr>\n",
       "      <th>634</th>\n",
       "      <td>10/10/2017</td>\n",
       "      <td>PAYPAL *BRECK COMPU</td>\n",
       "      <td>Electrónica y electrodomésticos</td>\n",
       "      <td>546.13</td>\n",
       "      <td>Gasto (G)</td>\n",
       "      <td>Visa Electron ...2036</td>\n",
       "    </tr>\n",
       "    <tr>\n",
       "      <th>702</th>\n",
       "      <td>09/08/2017</td>\n",
       "      <td>AIRBNB.COM</td>\n",
       "      <td>Hoteles</td>\n",
       "      <td>130.74</td>\n",
       "      <td>Gasto (G)</td>\n",
       "      <td>Visa Electron ...2036</td>\n",
       "    </tr>\n",
       "    <tr>\n",
       "      <th>719</th>\n",
       "      <td>26/07/2017</td>\n",
       "      <td>AMAZON.ES COMPRA</td>\n",
       "      <td>Varios</td>\n",
       "      <td>13.99</td>\n",
       "      <td>Gasto (G)</td>\n",
       "      <td>Visa Electron ...2036</td>\n",
       "    </tr>\n",
       "  </tbody>\n",
       "</table>\n",
       "</div>"
      ],
      "text/plain": [
       "           date                 concept                            category  \\\n",
       "54   07/02/2019  AMZ*Al Wholesale Store                              Varios   \n",
       "106  20/12/2018      COND.CUOTA TARJETA                              Varios   \n",
       "129  10/12/2018             PP*5427CODE                    Servicios varios   \n",
       "398  09/03/2018    AMAZON MKTPLACE PMTS                              Varios   \n",
       "424  22/02/2018          LIDL C PUJADES                     Supers e hipers   \n",
       "508  20/12/2017      COND.CUOTA TARJETA                              Varios   \n",
       "551  02/12/2017           PAYPAL *GWOTD  Libros, prensa, música y películas   \n",
       "634  10/10/2017     PAYPAL *BRECK COMPU     Electrónica y electrodomésticos   \n",
       "702  09/08/2017              AIRBNB.COM                             Hoteles   \n",
       "719  26/07/2017        AMAZON.ES COMPRA                              Varios   \n",
       "\n",
       "     amount       type                account  \n",
       "54   312.98  Gasto (G)  Visa Electron ...2036  \n",
       "106   28.00  Gasto (G)         Cuenta ...8503  \n",
       "129    1.50  Gasto (G)  Visa Electron ...2036  \n",
       "398    2.51  Gasto (G)  Visa Electron ...2036  \n",
       "424    5.99  Gasto (G)  Visa Electron ...2036  \n",
       "508   28.00  Gasto (G)         Cuenta ...8503  \n",
       "551   20.26  Gasto (G)  Visa Electron ...2036  \n",
       "634  546.13  Gasto (G)  Visa Electron ...2036  \n",
       "702  130.74  Gasto (G)  Visa Electron ...2036  \n",
       "719   13.99  Gasto (G)  Visa Electron ...2036  "
      ]
     },
     "execution_count": 132,
     "metadata": {},
     "output_type": "execute_result"
    }
   ],
   "source": [
    "# There is something weird, type \"gasto\" should have negative amounts\n",
    "finance[(finance[\"amount\"] > 0) & (finance['type'] == \"Gasto (G)\")]"
   ]
  },
  {
   "cell_type": "code",
   "execution_count": 189,
   "metadata": {},
   "outputs": [
    {
     "data": {
      "text/html": [
       "<div>\n",
       "<style scoped>\n",
       "    .dataframe tbody tr th:only-of-type {\n",
       "        vertical-align: middle;\n",
       "    }\n",
       "\n",
       "    .dataframe tbody tr th {\n",
       "        vertical-align: top;\n",
       "    }\n",
       "\n",
       "    .dataframe thead th {\n",
       "        text-align: right;\n",
       "    }\n",
       "</style>\n",
       "<table border=\"1\" class=\"dataframe\">\n",
       "  <thead>\n",
       "    <tr style=\"text-align: right;\">\n",
       "      <th></th>\n",
       "      <th>date</th>\n",
       "      <th>concept</th>\n",
       "      <th>category</th>\n",
       "      <th>amount</th>\n",
       "      <th>type</th>\n",
       "      <th>account</th>\n",
       "    </tr>\n",
       "  </thead>\n",
       "  <tbody>\n",
       "  </tbody>\n",
       "</table>\n",
       "</div>"
      ],
      "text/plain": [
       "Empty DataFrame\n",
       "Columns: [date, concept, category, amount, type, account]\n",
       "Index: []"
      ]
     },
     "execution_count": 189,
     "metadata": {},
     "output_type": "execute_result"
    }
   ],
   "source": [
    "finance[(finance[\"amount\"] < 0) & (finance['type'] == \"Ingreso (I)\")]"
   ]
  },
  {
   "cell_type": "markdown",
   "metadata": {},
   "source": [
    "### Data visualization of transactions \"amount\""
   ]
  },
  {
   "cell_type": "code",
   "execution_count": null,
   "metadata": {},
   "outputs": [],
   "source": [
    "sns.set(rc={'figure.figsize':(11.7,8.27)}) # Change size"
   ]
  },
  {
   "cell_type": "code",
   "execution_count": 158,
   "metadata": {},
   "outputs": [
    {
     "data": {
      "text/plain": [
       "count     720.000000\n",
       "mean       -0.022972\n",
       "std       121.689075\n",
       "min     -1587.260000\n",
       "25%       -12.210000\n",
       "50%        -4.380000\n",
       "75%        -1.795000\n",
       "max      1605.000000\n",
       "Name: amount, dtype: float64"
      ]
     },
     "execution_count": 158,
     "metadata": {},
     "output_type": "execute_result"
    }
   ],
   "source": [
    "finance[\"amount\"].describe()"
   ]
  },
  {
   "cell_type": "code",
   "execution_count": 138,
   "metadata": {},
   "outputs": [
    {
     "data": {
      "text/plain": [
       "<matplotlib.axes._subplots.AxesSubplot at 0x1230800b8>"
      ]
     },
     "execution_count": 138,
     "metadata": {},
     "output_type": "execute_result"
    },
    {
     "data": {
      "image/png": "[encoded data removed]",
      "text/plain": [
       "<Figure size 432x288 with 1 Axes>"
      ]
     },
     "metadata": {
      "needs_background": "light"
     },
     "output_type": "display_data"
    }
   ],
   "source": [
    "sns.boxplot(x = finance[\"amount\"])"
   ]
  },
  {
   "cell_type": "code",
   "execution_count": 176,
   "metadata": {},
   "outputs": [
    {
     "data": {
      "text/plain": [
       "<matplotlib.axes._subplots.AxesSubplot at 0x12fcbe6a0>"
      ]
     },
     "execution_count": 176,
     "metadata": {},
     "output_type": "execute_result"
    },
    {
     "data": {
      "image/png": "[encoded data removed]",
      "text/plain": [
       "<Figure size 432x288 with 1 Axes>"
      ]
     },
     "metadata": {
      "needs_background": "light"
     },
     "output_type": "display_data"
    }
   ],
   "source": [
    "sns.distplot(finance[\"amount\"])"
   ]
  },
  {
   "cell_type": "code",
   "execution_count": 177,
   "metadata": {},
   "outputs": [
    {
     "data": {
      "image/png": "[encoded data removed]",
      "text/plain": [
       "<Figure size 432x288 with 1 Axes>"
      ]
     },
     "metadata": {
      "needs_background": "light"
     },
     "output_type": "display_data"
    }
   ],
   "source": [
    "ax = sns.lineplot(x=\"date\", y=\"amount\", data=finance)"
   ]
  },
  {
   "cell_type": "markdown",
   "metadata": {},
   "source": [
    "### Testing if transactions are normally distributed"
   ]
  },
  {
   "cell_type": "code",
   "execution_count": 199,
   "metadata": {},
   "outputs": [],
   "source": [
    "k2, p = stats.normaltest(finance['amount'])"
   ]
  },
  {
   "cell_type": "code",
   "execution_count": 200,
   "metadata": {},
   "outputs": [
    {
     "name": "stdout",
     "output_type": "stream",
     "text": [
      "Sample does not look Gaussian (reject H0)\n"
     ]
    }
   ],
   "source": [
    "alpha = 0.05\n",
    "if p > alpha:\n",
    "    print('Sample looks Gaussian (fail to reject H0)')\n",
    "else:\n",
    "    print('Sample does not look Gaussian (reject H0)')"
   ]
  }
 ],
 "metadata": {
  "kernelspec": {
   "display_name": "Python 3",
   "language": "python",
   "name": "python3"
  },
  "language_info": {
   "codemirror_mode": {
    "name": "ipython",
    "version": 3
   },
   "file_extension": ".py",
   "mimetype": "text/x-python",
   "name": "python",
   "nbconvert_exporter": "python",
   "pygments_lexer": "ipython3",
   "version": "3.7.2"
  }
 },
 "nbformat": 4,
 "nbformat_minor": 2
}
